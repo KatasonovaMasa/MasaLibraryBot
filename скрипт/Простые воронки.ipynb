{
 "cells": [
  {
   "cell_type": "code",
   "execution_count": 13,
   "outputs": [
    {
     "data": {
      "text/plain": "          User        Date               Action t_channel_channelname  \\\n0        10406  1678459249 -2977831901376067458   SPA WebSDK ver. 1.0   \n1        10406  1678459313 -2977831901376067458   SPA WebSDK ver. 1.0   \n2      5525176  1676020315 -2802777857967368144   SPA WebSDK ver. 1.0   \n3      5525176  1676020365   325900490481139992   SPA WebSDK ver. 1.0   \n4      5525176  1676020365   325900490481139992   SPA WebSDK ver. 1.0   \n...        ...         ...                  ...                   ...   \n10778  5610529  1678453976 -2977831901376067458   SPA WebSDK ver. 1.0   \n10779  5610529  1678453999 -2977831901376067458   SPA WebSDK ver. 1.0   \n10780  5610529  1678454000 -2977831901376067458   SPA WebSDK ver. 1.0   \n10781  5610529  1678454003 -2977831901376067458   SPA WebSDK ver. 1.0   \n10782  5610529  1678454006 -2977831901376067458   SPA WebSDK ver. 1.0   \n\n      t_ua_browser_family t_ua_os_family  \n0                  Chrome        Windows  \n1                  Chrome        Windows  \n2                    Edge        Windows  \n3                    Edge        Windows  \n4                    Edge        Windows  \n...                   ...            ...  \n10778                Edge        Windows  \n10779                Edge        Windows  \n10780                Edge        Windows  \n10781                Edge        Windows  \n10782                Edge        Windows  \n\n[10783 rows x 6 columns]",
      "text/html": "<div>\n<style scoped>\n    .dataframe tbody tr th:only-of-type {\n        vertical-align: middle;\n    }\n\n    .dataframe tbody tr th {\n        vertical-align: top;\n    }\n\n    .dataframe thead th {\n        text-align: right;\n    }\n</style>\n<table border=\"1\" class=\"dataframe\">\n  <thead>\n    <tr style=\"text-align: right;\">\n      <th></th>\n      <th>User</th>\n      <th>Date</th>\n      <th>Action</th>\n      <th>t_channel_channelname</th>\n      <th>t_ua_browser_family</th>\n      <th>t_ua_os_family</th>\n    </tr>\n  </thead>\n  <tbody>\n    <tr>\n      <th>0</th>\n      <td>10406</td>\n      <td>1678459249</td>\n      <td>-2977831901376067458</td>\n      <td>SPA WebSDK ver. 1.0</td>\n      <td>Chrome</td>\n      <td>Windows</td>\n    </tr>\n    <tr>\n      <th>1</th>\n      <td>10406</td>\n      <td>1678459313</td>\n      <td>-2977831901376067458</td>\n      <td>SPA WebSDK ver. 1.0</td>\n      <td>Chrome</td>\n      <td>Windows</td>\n    </tr>\n    <tr>\n      <th>2</th>\n      <td>5525176</td>\n      <td>1676020315</td>\n      <td>-2802777857967368144</td>\n      <td>SPA WebSDK ver. 1.0</td>\n      <td>Edge</td>\n      <td>Windows</td>\n    </tr>\n    <tr>\n      <th>3</th>\n      <td>5525176</td>\n      <td>1676020365</td>\n      <td>325900490481139992</td>\n      <td>SPA WebSDK ver. 1.0</td>\n      <td>Edge</td>\n      <td>Windows</td>\n    </tr>\n    <tr>\n      <th>4</th>\n      <td>5525176</td>\n      <td>1676020365</td>\n      <td>325900490481139992</td>\n      <td>SPA WebSDK ver. 1.0</td>\n      <td>Edge</td>\n      <td>Windows</td>\n    </tr>\n    <tr>\n      <th>...</th>\n      <td>...</td>\n      <td>...</td>\n      <td>...</td>\n      <td>...</td>\n      <td>...</td>\n      <td>...</td>\n    </tr>\n    <tr>\n      <th>10778</th>\n      <td>5610529</td>\n      <td>1678453976</td>\n      <td>-2977831901376067458</td>\n      <td>SPA WebSDK ver. 1.0</td>\n      <td>Edge</td>\n      <td>Windows</td>\n    </tr>\n    <tr>\n      <th>10779</th>\n      <td>5610529</td>\n      <td>1678453999</td>\n      <td>-2977831901376067458</td>\n      <td>SPA WebSDK ver. 1.0</td>\n      <td>Edge</td>\n      <td>Windows</td>\n    </tr>\n    <tr>\n      <th>10780</th>\n      <td>5610529</td>\n      <td>1678454000</td>\n      <td>-2977831901376067458</td>\n      <td>SPA WebSDK ver. 1.0</td>\n      <td>Edge</td>\n      <td>Windows</td>\n    </tr>\n    <tr>\n      <th>10781</th>\n      <td>5610529</td>\n      <td>1678454003</td>\n      <td>-2977831901376067458</td>\n      <td>SPA WebSDK ver. 1.0</td>\n      <td>Edge</td>\n      <td>Windows</td>\n    </tr>\n    <tr>\n      <th>10782</th>\n      <td>5610529</td>\n      <td>1678454006</td>\n      <td>-2977831901376067458</td>\n      <td>SPA WebSDK ver. 1.0</td>\n      <td>Edge</td>\n      <td>Windows</td>\n    </tr>\n  </tbody>\n</table>\n<p>10783 rows × 6 columns</p>\n</div>"
     },
     "execution_count": 13,
     "metadata": {},
     "output_type": "execute_result"
    }
   ],
   "source": [
    "import psycopg2\n",
    "import pandas as pd\n",
    "\n",
    "conn = psycopg2.connect(user='ndr_spa',\n",
    "                        password='ndr-spa',\n",
    "                        host='172.29.253.105',\n",
    "                        port=\"31602\",\n",
    "                        database='spa-paas')\n",
    "df = pd.DataFrame()\n",
    "\n",
    "with conn.cursor() as cur:\n",
    "\n",
    "# Просмотрело пользователей\n",
    "    cur.execute(\"\"\"\n",
    "SELECT COALESCE (t_spa_merging.merged_spa_id,t_dashboard_data_spa.spa_id) AS \"User\",\n",
    "       t_dashboard_data_spa.\"timestamp\" AS \"Date\",\n",
    "       t_dashboard_data_spa.custom_event_id AS \"Action\"\n",
    "        ,t_channel.channelname as t_channel_channelname,\n",
    "       t_ua_browser.family as t_ua_browser_family,\n",
    "       t_ua_os.family as t_ua_os_family\n",
    "FROM metrics.dashboard_data_spa as t_dashboard_data_spa\n",
    "         LEFT JOIN metrics.ua_os as t_ua_os ON t_dashboard_data_spa.os_id = t_ua_os.id\n",
    "         LEFT JOIN metrics.ua_browser as t_ua_browser ON t_dashboard_data_spa.browser_id = t_ua_browser.id\n",
    "         LEFT JOIN metrics.channel as t_channel ON t_dashboard_data_spa.channel_name_typeid = t_channel.channel_name_typeid\n",
    "         LEFT JOIN metrics.spa_merging t_spa_merging ON t_dashboard_data_spa.spa_id = t_spa_merging.spa_id\n",
    "WHERE\n",
    "        t_dashboard_data_spa.date_timestamp >= 1675987200.0\n",
    "  AND t_dashboard_data_spa.date_timestamp <= 1678665599.999\n",
    "  AND t_dashboard_data_spa.counterid =3\n",
    "ORDER BY \"User\", \"Date\", \"Action\";\n",
    "\"\"\")\n",
    "\n",
    "    data = cur.fetchall()\n",
    "    columns = list(cur.description)\n",
    "    datacolumns=[c[0] for c in columns]\n",
    "    df = pd.DataFrame(data=data, columns = datacolumns)\n",
    "\n",
    "#df.head(100)\n",
    "df"
   ],
   "metadata": {
    "collapsed": false,
    "pycharm": {
     "name": "#%%\n"
    }
   }
  },
  {
   "cell_type": "code",
   "execution_count": 13,
   "id": "af4eb6b2-c28c-43b7-9df9-e034a5177193",
   "metadata": {
    "pycharm": {
     "name": "#%%\n"
    }
   },
   "outputs": [],
   "source": []
  },
  {
   "cell_type": "code",
   "execution_count": 14,
   "id": "c3db6ce8-e565-4e12-acd5-d7bda0a78e20",
   "metadata": {
    "pycharm": {
     "name": "#%%\n"
    }
   },
   "outputs": [
    {
     "data": {
      "text/plain": "          User        Date               Action t_channel_channelname  \\\n0        10406  1678459249 -2977831901376067458   SPA WebSDK ver. 1.0   \n1        10406  1678459313 -2977831901376067458   SPA WebSDK ver. 1.0   \n2      5525176  1676020315 -2802777857967368144   SPA WebSDK ver. 1.0   \n3      5525176  1676020365   325900490481139992   SPA WebSDK ver. 1.0   \n4      5525176  1676020365   325900490481139992   SPA WebSDK ver. 1.0   \n...        ...         ...                  ...                   ...   \n10778  5610529  1678453976 -2977831901376067458   SPA WebSDK ver. 1.0   \n10779  5610529  1678453999 -2977831901376067458   SPA WebSDK ver. 1.0   \n10780  5610529  1678454000 -2977831901376067458   SPA WebSDK ver. 1.0   \n10781  5610529  1678454003 -2977831901376067458   SPA WebSDK ver. 1.0   \n10782  5610529  1678454006 -2977831901376067458   SPA WebSDK ver. 1.0   \n\n      t_ua_browser_family t_ua_os_family Case Step FirstTime  \n0                  Chrome        Windows                      \n1                  Chrome        Windows                      \n2                    Edge        Windows                      \n3                    Edge        Windows                      \n4                    Edge        Windows                      \n...                   ...            ...  ...  ...       ...  \n10778                Edge        Windows                      \n10779                Edge        Windows                      \n10780                Edge        Windows                      \n10781                Edge        Windows                      \n10782                Edge        Windows                      \n\n[10783 rows x 9 columns]",
      "text/html": "<div>\n<style scoped>\n    .dataframe tbody tr th:only-of-type {\n        vertical-align: middle;\n    }\n\n    .dataframe tbody tr th {\n        vertical-align: top;\n    }\n\n    .dataframe thead th {\n        text-align: right;\n    }\n</style>\n<table border=\"1\" class=\"dataframe\">\n  <thead>\n    <tr style=\"text-align: right;\">\n      <th></th>\n      <th>User</th>\n      <th>Date</th>\n      <th>Action</th>\n      <th>t_channel_channelname</th>\n      <th>t_ua_browser_family</th>\n      <th>t_ua_os_family</th>\n      <th>Case</th>\n      <th>Step</th>\n      <th>FirstTime</th>\n    </tr>\n  </thead>\n  <tbody>\n    <tr>\n      <th>0</th>\n      <td>10406</td>\n      <td>1678459249</td>\n      <td>-2977831901376067458</td>\n      <td>SPA WebSDK ver. 1.0</td>\n      <td>Chrome</td>\n      <td>Windows</td>\n      <td></td>\n      <td></td>\n      <td></td>\n    </tr>\n    <tr>\n      <th>1</th>\n      <td>10406</td>\n      <td>1678459313</td>\n      <td>-2977831901376067458</td>\n      <td>SPA WebSDK ver. 1.0</td>\n      <td>Chrome</td>\n      <td>Windows</td>\n      <td></td>\n      <td></td>\n      <td></td>\n    </tr>\n    <tr>\n      <th>2</th>\n      <td>5525176</td>\n      <td>1676020315</td>\n      <td>-2802777857967368144</td>\n      <td>SPA WebSDK ver. 1.0</td>\n      <td>Edge</td>\n      <td>Windows</td>\n      <td></td>\n      <td></td>\n      <td></td>\n    </tr>\n    <tr>\n      <th>3</th>\n      <td>5525176</td>\n      <td>1676020365</td>\n      <td>325900490481139992</td>\n      <td>SPA WebSDK ver. 1.0</td>\n      <td>Edge</td>\n      <td>Windows</td>\n      <td></td>\n      <td></td>\n      <td></td>\n    </tr>\n    <tr>\n      <th>4</th>\n      <td>5525176</td>\n      <td>1676020365</td>\n      <td>325900490481139992</td>\n      <td>SPA WebSDK ver. 1.0</td>\n      <td>Edge</td>\n      <td>Windows</td>\n      <td></td>\n      <td></td>\n      <td></td>\n    </tr>\n    <tr>\n      <th>...</th>\n      <td>...</td>\n      <td>...</td>\n      <td>...</td>\n      <td>...</td>\n      <td>...</td>\n      <td>...</td>\n      <td>...</td>\n      <td>...</td>\n      <td>...</td>\n    </tr>\n    <tr>\n      <th>10778</th>\n      <td>5610529</td>\n      <td>1678453976</td>\n      <td>-2977831901376067458</td>\n      <td>SPA WebSDK ver. 1.0</td>\n      <td>Edge</td>\n      <td>Windows</td>\n      <td></td>\n      <td></td>\n      <td></td>\n    </tr>\n    <tr>\n      <th>10779</th>\n      <td>5610529</td>\n      <td>1678453999</td>\n      <td>-2977831901376067458</td>\n      <td>SPA WebSDK ver. 1.0</td>\n      <td>Edge</td>\n      <td>Windows</td>\n      <td></td>\n      <td></td>\n      <td></td>\n    </tr>\n    <tr>\n      <th>10780</th>\n      <td>5610529</td>\n      <td>1678454000</td>\n      <td>-2977831901376067458</td>\n      <td>SPA WebSDK ver. 1.0</td>\n      <td>Edge</td>\n      <td>Windows</td>\n      <td></td>\n      <td></td>\n      <td></td>\n    </tr>\n    <tr>\n      <th>10781</th>\n      <td>5610529</td>\n      <td>1678454003</td>\n      <td>-2977831901376067458</td>\n      <td>SPA WebSDK ver. 1.0</td>\n      <td>Edge</td>\n      <td>Windows</td>\n      <td></td>\n      <td></td>\n      <td></td>\n    </tr>\n    <tr>\n      <th>10782</th>\n      <td>5610529</td>\n      <td>1678454006</td>\n      <td>-2977831901376067458</td>\n      <td>SPA WebSDK ver. 1.0</td>\n      <td>Edge</td>\n      <td>Windows</td>\n      <td></td>\n      <td></td>\n      <td></td>\n    </tr>\n  </tbody>\n</table>\n<p>10783 rows × 9 columns</p>\n</div>"
     },
     "execution_count": 14,
     "metadata": {},
     "output_type": "execute_result"
    }
   ],
   "source": [
    "# 1 ШАГ - ВЫГРУЗКА ДАННЫХ\n",
    "\n",
    "#выгружаем дата сет из csv\n",
    "# import pandas as pd\n",
    "# df = pd.read_csv('C:/Users/Maria.Ruchkina/Desktop/Исходные данные2.csv', encoding='windows-1251', sep=';')\n",
    "\n",
    "# df['Date'] = pd.to_datetime(df['Date'])\n",
    "# df['Action'] = df['Action'].astype(str)\n",
    "\n",
    "#сортируем данные сначала по пользователю, зачем, для каждого пользователя - по дате\n",
    "df=df.sort_values(by=['User', 'Date', 'Action'])\n",
    "\n",
    "df.reset_index(inplace = True, drop = True)\n",
    "\n",
    "#добавляем столбцы - Случай\n",
    "df[\"Case\"] = ''\n",
    "#добавляем столбцы - Шаг\n",
    "df[\"Step\"] = ''\n",
    "#добавляем столбец - Первый раз\n",
    "df[\"FirstTime\"] = ''\n",
    "\n",
    "df.to_csv(\"исходные данные.csv\", sep=';', encoding='windows-1251')\n",
    "df"
   ]
  },
  {
   "cell_type": "code",
   "execution_count": 14,
   "id": "56c268c1-152a-4a32-adeb-58d229508eb4",
   "metadata": {
    "pycharm": {
     "name": "#%%\n"
    }
   },
   "outputs": [],
   "source": []
  },
  {
   "cell_type": "code",
   "execution_count": 14,
   "id": "ae7f7e99-29b9-490d-a048-f050ad9c41b8",
   "metadata": {
    "pycharm": {
     "name": "#%%\n"
    }
   },
   "outputs": [],
   "source": []
  },
  {
   "cell_type": "code",
   "execution_count": 14,
   "outputs": [],
   "source": [],
   "metadata": {
    "collapsed": false,
    "pycharm": {
     "name": "#%%\n"
    }
   }
  },
  {
   "cell_type": "markdown",
   "source": [],
   "metadata": {
    "collapsed": false,
    "pycharm": {
     "name": "#%% md\n"
    }
   }
  },
  {
   "cell_type": "markdown",
   "source": [],
   "metadata": {
    "collapsed": false,
    "pycharm": {
     "name": "#%% md\n"
    }
   }
  },
  {
   "cell_type": "code",
   "execution_count": 15,
   "id": "cdf1c02f-97b7-426e-af11-619d4948b17b",
   "metadata": {
    "pycharm": {
     "name": "#%%\n"
    }
   },
   "outputs": [],
   "source": [
    "#создаем список шагов\n",
    "\n",
    "steps =[-7971620056975097441, -2802777857967368144, -4508754842410323113, 8935524570613856622]\n"
   ]
  },
  {
   "cell_type": "code",
   "execution_count": 15,
   "id": "c9a81a2e-f3f9-44ce-ae10-46d4b0b5f7b5",
   "metadata": {
    "pycharm": {
     "name": "#%%\n"
    }
   },
   "outputs": [],
   "source": []
  },
  {
   "cell_type": "markdown",
   "source": [],
   "metadata": {
    "collapsed": false,
    "pycharm": {
     "name": "#%% md\n"
    }
   }
  },
  {
   "cell_type": "code",
   "execution_count": 16,
   "id": "a2a6bf91-db2c-491c-958b-1977cb54910d",
   "metadata": {
    "pycharm": {
     "name": "#%%\n"
    }
   },
   "outputs": [
    {
     "data": {
      "text/plain": "       User        Date               Action t_channel_channelname  \\\n57  5525176  1676366304 -7971620056975097441   SPA WebSDK ver. 1.0   \n60  5525176  1676366305 -2802777857967368144   SPA WebSDK ver. 1.0   \n61  5525176  1676366306 -7971620056975097441   SPA WebSDK ver. 1.0   \n66  5525176  1676456119 -2802777857967368144   SPA WebSDK ver. 1.0   \n70  5525176  1676456147 -4508754842410323113   SPA WebSDK ver. 1.0   \n\n   t_ua_browser_family t_ua_os_family Case Step FirstTime  \n57                Edge        Windows    1    1      True  \n60                Edge        Windows    1    2      True  \n61                Edge        Windows    2    1      True  \n66                Edge        Windows    2    2      True  \n70                Edge        Windows    2    3      True  ",
      "text/html": "<div>\n<style scoped>\n    .dataframe tbody tr th:only-of-type {\n        vertical-align: middle;\n    }\n\n    .dataframe tbody tr th {\n        vertical-align: top;\n    }\n\n    .dataframe thead th {\n        text-align: right;\n    }\n</style>\n<table border=\"1\" class=\"dataframe\">\n  <thead>\n    <tr style=\"text-align: right;\">\n      <th></th>\n      <th>User</th>\n      <th>Date</th>\n      <th>Action</th>\n      <th>t_channel_channelname</th>\n      <th>t_ua_browser_family</th>\n      <th>t_ua_os_family</th>\n      <th>Case</th>\n      <th>Step</th>\n      <th>FirstTime</th>\n    </tr>\n  </thead>\n  <tbody>\n    <tr>\n      <th>57</th>\n      <td>5525176</td>\n      <td>1676366304</td>\n      <td>-7971620056975097441</td>\n      <td>SPA WebSDK ver. 1.0</td>\n      <td>Edge</td>\n      <td>Windows</td>\n      <td>1</td>\n      <td>1</td>\n      <td>True</td>\n    </tr>\n    <tr>\n      <th>60</th>\n      <td>5525176</td>\n      <td>1676366305</td>\n      <td>-2802777857967368144</td>\n      <td>SPA WebSDK ver. 1.0</td>\n      <td>Edge</td>\n      <td>Windows</td>\n      <td>1</td>\n      <td>2</td>\n      <td>True</td>\n    </tr>\n    <tr>\n      <th>61</th>\n      <td>5525176</td>\n      <td>1676366306</td>\n      <td>-7971620056975097441</td>\n      <td>SPA WebSDK ver. 1.0</td>\n      <td>Edge</td>\n      <td>Windows</td>\n      <td>2</td>\n      <td>1</td>\n      <td>True</td>\n    </tr>\n    <tr>\n      <th>66</th>\n      <td>5525176</td>\n      <td>1676456119</td>\n      <td>-2802777857967368144</td>\n      <td>SPA WebSDK ver. 1.0</td>\n      <td>Edge</td>\n      <td>Windows</td>\n      <td>2</td>\n      <td>2</td>\n      <td>True</td>\n    </tr>\n    <tr>\n      <th>70</th>\n      <td>5525176</td>\n      <td>1676456147</td>\n      <td>-4508754842410323113</td>\n      <td>SPA WebSDK ver. 1.0</td>\n      <td>Edge</td>\n      <td>Windows</td>\n      <td>2</td>\n      <td>3</td>\n      <td>True</td>\n    </tr>\n  </tbody>\n</table>\n</div>"
     },
     "execution_count": 16,
     "metadata": {},
     "output_type": "execute_result"
    }
   ],
   "source": [
    "# 2 ШАГ - ДЛЯ ПРОСТОГО ПОРЯДКА - РАЗМЕЧАЕМ СОБЫТИЯ В ДАТА СЕТЕ\n",
    "\n",
    "# caseNumber - счетчик для случаев\n",
    "caseNumber = 1\n",
    "\n",
    "# счетчик для шагов\n",
    "stepNumber = 0\n",
    "\n",
    "# цикл по шагам воронки\n",
    "for step in steps:\n",
    "    stepNumber = stepNumber + 1\n",
    "    \n",
    "    # цикл по списку событий\n",
    "    for i, row in df.iterrows():\n",
    "        \n",
    "        # работаем с записью только если для нее не определен шаг\n",
    "        if row['Step'] == '':\n",
    "            \n",
    "            # если у записи событие = текущему шагу воронки\n",
    "            if row['Action'] == step:\n",
    "                \n",
    "                # Пропускаем текущее событие, если:\n",
    "                # Это не первая запись ИЛИ у предыдущей записи тот же юзер, событие и для него определен тот же шаг или шаг не опрделен\n",
    "                # Это необходимо, так как если записи о событии от одного и того же пользователя идут подряд, мы считаем это одним и тем же шагом, а также для для того, чтобы не пропустить шаг, если для 2 шагов указано одно и то же событие\n",
    "                \n",
    "                if i==0 or (df.iloc[i-1]['User'] == row['User'] and df.iloc[i-1]['Action'] == step and (df.iloc[i-1]['Step'] == stepNumber or df.iloc[i-1]['Step'] == '')) == False:\n",
    "                    \n",
    "                    # если текущий шаг - первый, фиксируем случай и шаг\n",
    "                    if stepNumber == 1:\n",
    "                        df.at[i, 'Case']=caseNumber\n",
    "                        df.at[i, 'Step'] = stepNumber\n",
    "                        df.at[i, 'FirstTime']=True\n",
    "                        caseNumber = caseNumber + 1\n",
    "                    # если текущий шаг - не первый\n",
    "                    else:\n",
    "                        # ищем предыдущий шаг, так как шаги должны идти друг за другом, а так же чтобы идентифицировать случай\n",
    "                        \n",
    "                        prev_steps = df[(df['User'] == row['User']) & (df['Step'] == (stepNumber-1)) & (df['Date'] < row['Date'])]\n",
    "                        \n",
    "                        # если нашли записи, которые могут быть предыдущими шагами\n",
    "                        \n",
    "                        if prev_steps.empty == False: \n",
    "                            # получаем самую последнюю по дате запись - это и будет предыдущий шаг для текущей воронки\n",
    "                         #   idxmax = prev_steps[['Date']].idxmax()\n",
    "                         #   prev_step=prev_steps.loc[idxmax].iloc[0]\n",
    "                            \n",
    "                            prev_step=prev_steps.tail(n=1).iloc[0]\n",
    " \n",
    "                            # если нашли предыдущий шаг\n",
    "                            if prev_step.empty == False:\n",
    "                                # ищем, не был ли уже определен текущий шаг для соотв. случая\n",
    "                                sameStep = df[(df['User'] == row['User']) & (df['Step'] == stepNumber) & (df['Case'] == prev_step['Case'])]\n",
    "                                # если не нашли такой же шаг\n",
    "                                if sameStep.empty == True:\n",
    "                                    breakingStep = df[(df['User'] == row['User']) & (df['Step'] == 1) & (df['Date'] < row['Date']) & (df['Date'] > prev_step['Date'])]\n",
    "                                    if breakingStep.empty == True:\n",
    "                                        df.at[i, 'Case'] = prev_step['Case']\n",
    "                                        df.at[i, 'Step'] = stepNumber\n",
    "                                        df.at[i, 'FirstTime']=True\n",
    "                                        \n",
    "df_res=df[df.FirstTime == True]\n",
    "df.to_csv(\"размеченные данные.csv\", sep=';', encoding='windows-1251')\n",
    "\n",
    "df_res"
   ]
  },
  {
   "cell_type": "code",
   "execution_count": 16,
   "id": "320a5385-7375-42c7-8bbb-e1136df57395",
   "metadata": {
    "pycharm": {
     "name": "#%%\n"
    }
   },
   "outputs": [],
   "source": []
  },
  {
   "cell_type": "code",
   "execution_count": 16,
   "id": "3c856a4a-f7b6-426f-bb81-123e1473c2ab",
   "metadata": {
    "pycharm": {
     "name": "#%%\n"
    }
   },
   "outputs": [],
   "source": []
  },
  {
   "cell_type": "code",
   "execution_count": 17,
   "id": "999884e8-aa14-4d02-8299-16056c8ad9cb",
   "metadata": {
    "pycharm": {
     "name": "#%%\n"
    }
   },
   "outputs": [
    {
     "data": {
      "text/plain": "  Case     User       Step1 Diff_Step2       Step2 Diff_Step3       Step3  \\\n0    1  5525176  1676366304          1  1676366305                          \n1    2  5525176  1676366306      89813  1676456119         28  1676456147   \n\n  Diff_Step4 Step4  \n0                   \n1                   ",
      "text/html": "<div>\n<style scoped>\n    .dataframe tbody tr th:only-of-type {\n        vertical-align: middle;\n    }\n\n    .dataframe tbody tr th {\n        vertical-align: top;\n    }\n\n    .dataframe thead th {\n        text-align: right;\n    }\n</style>\n<table border=\"1\" class=\"dataframe\">\n  <thead>\n    <tr style=\"text-align: right;\">\n      <th></th>\n      <th>Case</th>\n      <th>User</th>\n      <th>Step1</th>\n      <th>Diff_Step2</th>\n      <th>Step2</th>\n      <th>Diff_Step3</th>\n      <th>Step3</th>\n      <th>Diff_Step4</th>\n      <th>Step4</th>\n    </tr>\n  </thead>\n  <tbody>\n    <tr>\n      <th>0</th>\n      <td>1</td>\n      <td>5525176</td>\n      <td>1676366304</td>\n      <td>1</td>\n      <td>1676366305</td>\n      <td></td>\n      <td></td>\n      <td></td>\n      <td></td>\n    </tr>\n    <tr>\n      <th>1</th>\n      <td>2</td>\n      <td>5525176</td>\n      <td>1676366306</td>\n      <td>89813</td>\n      <td>1676456119</td>\n      <td>28</td>\n      <td>1676456147</td>\n      <td></td>\n      <td></td>\n    </tr>\n  </tbody>\n</table>\n</div>"
     },
     "execution_count": 17,
     "metadata": {},
     "output_type": "execute_result"
    }
   ],
   "source": [
    "# ФОРМИРУЕМ СЛУЧАИ\n",
    "\n",
    "cases_list = pd.DataFrame({'Case': df_res.Case.unique()})\n",
    "cases_list[\"User\"]=''\n",
    "\n",
    "step_number = 0\n",
    "\n",
    "for step in steps:\n",
    "    step_number = step_number + 1\n",
    "    if step_number != 1:\n",
    "        cases_list[\"Diff_Step\"+str(step_number)] = ''\n",
    "    cases_list[\"Step\"+str(step_number)] = ''\n",
    "    \n",
    "for i, case in cases_list.iterrows():\n",
    "    step_number = 0\n",
    "    for step in steps:\n",
    "        step_number = step_number + 1\n",
    "        step_row = df_res[(df_res['Case'] == case['Case']) & (df_res['Step'] == step_number)]\n",
    "        if step_row.empty == False:\n",
    "            cases_list.at[i, \"Step\" + str(step_number)]=step_row.iloc[0].Date\n",
    "            cases_list.at[i, 'User']=step_row.iloc[0].User\n",
    "            if step_number != 1:\n",
    "                cases_list.at[i, \"Diff_Step\" + str(step_number)] = (cases_list.at[i, \"Step\" + str(step_number)] - cases_list.at[i, \"Step\" + str(step_number-1)])\n",
    "                \n",
    "cases_list"
   ]
  },
  {
   "cell_type": "code",
   "execution_count": 17,
   "id": "28f9c24f-b18e-4ad3-ae6f-124b61ba91be",
   "metadata": {
    "pycharm": {
     "name": "#%%\n"
    }
   },
   "outputs": [],
   "source": []
  },
  {
   "cell_type": "code",
   "execution_count": 18,
   "id": "a71a6b3f-721b-4163-8f5b-533b02063295",
   "metadata": {
    "pycharm": {
     "name": "#%%\n"
    }
   },
   "outputs": [
    {
     "name": "stdout",
     "output_type": "stream",
     "text": [
      "Шаг 1:\n",
      "Количество случаев =2\n",
      "Количество пользователей = 1\n",
      "Шаг 2:\n",
      "Количество случаев =2\n",
      "Количество пользователей = 1\n",
      "Среднее время после предыдущего шага = 44907.0\n",
      "Среднее время после предыдущего шага (медиана) = 44907.0\n",
      "Шаг 3:\n",
      "Количество случаев =1\n",
      "Количество пользователей = 1\n",
      "Среднее время после предыдущего шага = 28.0\n",
      "Среднее время после предыдущего шага (медиана) = 28.0\n",
      "Шаг 4:\n",
      "Количество случаев =0\n",
      "Количество пользователей = 0\n",
      "Среднее время после предыдущего шага = nan\n",
      "Среднее время после предыдущего шага (медиана) = nan\n"
     ]
    }
   ],
   "source": [
    "# ОТОБРАЖАЕМ МЕТРИКИ\n",
    "\n",
    "step_number = 0\n",
    "\n",
    "for step in steps:\n",
    "    step_number = step_number + 1    \n",
    "    print(\"Шаг \"+ str(step_number)+\":\")\n",
    "    step_df=cases_list[cases_list[\"Step\"+str(step_number)] != '']\n",
    "    print(\"Количество случаев =\"+ str(step_df.shape[0]))\n",
    "    print(\"Количество пользователей = \" + str(step_df.User.unique().shape[0]))\n",
    "    if step_number != 1:\n",
    "        print(\"Среднее время после предыдущего шага = \" + str(step_df[\"Diff_Step\" + str(step_number)].mean()))\n",
    "        print(\"Среднее время после предыдущего шага (медиана) = \" + str(step_df[\"Diff_Step\" + str(step_number)].median()))"
   ]
  }
 ],
 "metadata": {
  "kernelspec": {
   "display_name": "Python 3 (ipykernel)",
   "language": "python",
   "name": "python3"
  },
  "language_info": {
   "codemirror_mode": {
    "name": "ipython",
    "version": 3
   },
   "file_extension": ".py",
   "mimetype": "text/x-python",
   "name": "python",
   "nbconvert_exporter": "python",
   "pygments_lexer": "ipython3",
   "version": "3.9.5"
  }
 },
 "nbformat": 4,
 "nbformat_minor": 5
}