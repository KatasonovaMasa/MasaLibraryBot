{
 "cells": [
  {
   "cell_type": "code",
   "execution_count": 14,
   "id": "31972bcb-982e-4fd4-bf98-e51e4be7ed24",
   "metadata": {
    "pycharm": {
     "name": "#%%\n"
    }
   },
   "outputs": [
    {
     "data": {
      "text/plain": "        User        Date               Action t_channel_channelname  \\\n0    5610410  1675253818   816458943053036507   SPA WebSDK ver. 1.0   \n1    5610410  1675253831  1078481309569142348   SPA WebSDK ver. 1.0   \n2    5610410  1675253832  5968215246386644958   SPA WebSDK ver. 1.0   \n3    5610410  1675253834  2663893037261661396   SPA WebSDK ver. 1.0   \n4    5610410  1675253835  5968215246386644958   SPA WebSDK ver. 1.0   \n..       ...         ...                  ...                   ...   \n104  5610410  1675253915  8963603339518700811   SPA WebSDK ver. 1.0   \n105  5610410  1675253916 -3078137023039660317   SPA WebSDK ver. 1.0   \n106  5610410  1675253916  2288299052224170527   SPA WebSDK ver. 1.0   \n107  5610410  1675253918 -7515928846097923806   SPA WebSDK ver. 1.0   \n108  5610410  1675253939 -8321355592495752034   SPA WebSDK ver. 1.0   \n\n    t_ua_browser_family t_ua_os_family  \n0                Chrome        Windows  \n1                Chrome        Windows  \n2                Chrome        Windows  \n3                Chrome        Windows  \n4                Chrome        Windows  \n..                  ...            ...  \n104              Chrome        Windows  \n105              Chrome        Windows  \n106              Chrome        Windows  \n107              Chrome        Windows  \n108              Chrome        Windows  \n\n[109 rows x 6 columns]",
      "text/html": "<div>\n<style scoped>\n    .dataframe tbody tr th:only-of-type {\n        vertical-align: middle;\n    }\n\n    .dataframe tbody tr th {\n        vertical-align: top;\n    }\n\n    .dataframe thead th {\n        text-align: right;\n    }\n</style>\n<table border=\"1\" class=\"dataframe\">\n  <thead>\n    <tr style=\"text-align: right;\">\n      <th></th>\n      <th>User</th>\n      <th>Date</th>\n      <th>Action</th>\n      <th>t_channel_channelname</th>\n      <th>t_ua_browser_family</th>\n      <th>t_ua_os_family</th>\n    </tr>\n  </thead>\n  <tbody>\n    <tr>\n      <th>0</th>\n      <td>5610410</td>\n      <td>1675253818</td>\n      <td>816458943053036507</td>\n      <td>SPA WebSDK ver. 1.0</td>\n      <td>Chrome</td>\n      <td>Windows</td>\n    </tr>\n    <tr>\n      <th>1</th>\n      <td>5610410</td>\n      <td>1675253831</td>\n      <td>1078481309569142348</td>\n      <td>SPA WebSDK ver. 1.0</td>\n      <td>Chrome</td>\n      <td>Windows</td>\n    </tr>\n    <tr>\n      <th>2</th>\n      <td>5610410</td>\n      <td>1675253832</td>\n      <td>5968215246386644958</td>\n      <td>SPA WebSDK ver. 1.0</td>\n      <td>Chrome</td>\n      <td>Windows</td>\n    </tr>\n    <tr>\n      <th>3</th>\n      <td>5610410</td>\n      <td>1675253834</td>\n      <td>2663893037261661396</td>\n      <td>SPA WebSDK ver. 1.0</td>\n      <td>Chrome</td>\n      <td>Windows</td>\n    </tr>\n    <tr>\n      <th>4</th>\n      <td>5610410</td>\n      <td>1675253835</td>\n      <td>5968215246386644958</td>\n      <td>SPA WebSDK ver. 1.0</td>\n      <td>Chrome</td>\n      <td>Windows</td>\n    </tr>\n    <tr>\n      <th>...</th>\n      <td>...</td>\n      <td>...</td>\n      <td>...</td>\n      <td>...</td>\n      <td>...</td>\n      <td>...</td>\n    </tr>\n    <tr>\n      <th>104</th>\n      <td>5610410</td>\n      <td>1675253915</td>\n      <td>8963603339518700811</td>\n      <td>SPA WebSDK ver. 1.0</td>\n      <td>Chrome</td>\n      <td>Windows</td>\n    </tr>\n    <tr>\n      <th>105</th>\n      <td>5610410</td>\n      <td>1675253916</td>\n      <td>-3078137023039660317</td>\n      <td>SPA WebSDK ver. 1.0</td>\n      <td>Chrome</td>\n      <td>Windows</td>\n    </tr>\n    <tr>\n      <th>106</th>\n      <td>5610410</td>\n      <td>1675253916</td>\n      <td>2288299052224170527</td>\n      <td>SPA WebSDK ver. 1.0</td>\n      <td>Chrome</td>\n      <td>Windows</td>\n    </tr>\n    <tr>\n      <th>107</th>\n      <td>5610410</td>\n      <td>1675253918</td>\n      <td>-7515928846097923806</td>\n      <td>SPA WebSDK ver. 1.0</td>\n      <td>Chrome</td>\n      <td>Windows</td>\n    </tr>\n    <tr>\n      <th>108</th>\n      <td>5610410</td>\n      <td>1675253939</td>\n      <td>-8321355592495752034</td>\n      <td>SPA WebSDK ver. 1.0</td>\n      <td>Chrome</td>\n      <td>Windows</td>\n    </tr>\n  </tbody>\n</table>\n<p>109 rows × 6 columns</p>\n</div>"
     },
     "execution_count": 14,
     "metadata": {},
     "output_type": "execute_result"
    }
   ],
   "source": [
    "import psycopg2\n",
    "import pandas as pd\n",
    "\n",
    "conn = psycopg2.connect(user='ndr_spa',\n",
    "                        password='ndr-spa',\n",
    "                        host='172.29.253.105',\n",
    "                        port=\"31602\",\n",
    "                        database='spa-paas')\n",
    "df = pd.DataFrame()\n",
    "\n",
    "with conn.cursor() as cur:\n",
    "\n",
    "# Просмотрело пользователей\n",
    "    cur.execute(\"\"\"\n",
    " SELECT COALESCE (t_spa_merging.merged_spa_id,t_dashboard_data_spa.spa_id) AS \"User\",\n",
    "       t_dashboard_data_spa.\"timestamp\" AS \"Date\",\n",
    "       t_dashboard_data_spa.custom_event_id AS \"Action\"\n",
    "        ,t_channel.channelname as t_channel_channelname,\n",
    "       t_ua_browser.family as t_ua_browser_family,\n",
    "       t_ua_os.family as t_ua_os_family\n",
    "FROM metrics.dashboard_data_spa as t_dashboard_data_spa\n",
    "         LEFT JOIN metrics.ua_os as t_ua_os ON t_dashboard_data_spa.os_id = t_ua_os.id\n",
    "         LEFT JOIN metrics.ua_browser as t_ua_browser ON t_dashboard_data_spa.browser_id = t_ua_browser.id\n",
    "         LEFT JOIN metrics.channel as t_channel ON t_dashboard_data_spa.channel_name_typeid = t_channel.channel_name_typeid\n",
    "         LEFT JOIN metrics.spa_merging t_spa_merging ON t_dashboard_data_spa.spa_id = t_spa_merging.spa_id\n",
    "WHERE\n",
    "        t_dashboard_data_spa.date_timestamp >= 1672617600.000\n",
    "  AND t_dashboard_data_spa.date_timestamp <= 1675295999.999\n",
    "  AND t_dashboard_data_spa.counterid = 172\n",
    "ORDER BY 1, 2, 3\n",
    "\"\"\")\n",
    "\n",
    "    data = cur.fetchall()\n",
    "    columns = list(cur.description)\n",
    "    datacolumns=[c[0] for c in columns]\n",
    "    df = pd.DataFrame(data=data, columns = datacolumns)\n",
    "    \n",
    "#df.head(100)  \n",
    "df"
   ]
  },
  {
   "cell_type": "code",
   "execution_count": 14,
   "id": "bee4decb-1793-4ef4-bf7f-a6ced549da8a",
   "metadata": {
    "pycharm": {
     "name": "#%%\n"
    }
   },
   "outputs": [],
   "source": []
  },
  {
   "cell_type": "code",
   "execution_count": 14,
   "id": "4e1403cd-bb82-4c81-ba59-eb1914db092a",
   "metadata": {
    "pycharm": {
     "name": "#%%\n"
    }
   },
   "outputs": [],
   "source": []
  },
  {
   "cell_type": "code",
   "execution_count": 14,
   "id": "578cf320-8e02-4a65-abb5-925926d5f94e",
   "metadata": {
    "pycharm": {
     "name": "#%%\n"
    }
   },
   "outputs": [],
   "source": []
  },
  {
   "cell_type": "code",
   "execution_count": 14,
   "id": "af4eb6b2-c28c-43b7-9df9-e034a5177193",
   "metadata": {
    "pycharm": {
     "name": "#%%\n"
    }
   },
   "outputs": [],
   "source": []
  },
  {
   "cell_type": "code",
   "execution_count": 15,
   "id": "c3db6ce8-e565-4e12-acd5-d7bda0a78e20",
   "metadata": {
    "pycharm": {
     "name": "#%%\n"
    }
   },
   "outputs": [
    {
     "data": {
      "text/plain": "        User        Date               Action t_channel_channelname  \\\n0    5610410  1675253818   816458943053036507   SPA WebSDK ver. 1.0   \n1    5610410  1675253831  1078481309569142348   SPA WebSDK ver. 1.0   \n2    5610410  1675253832  5968215246386644958   SPA WebSDK ver. 1.0   \n3    5610410  1675253834  2663893037261661396   SPA WebSDK ver. 1.0   \n4    5610410  1675253835  5968215246386644958   SPA WebSDK ver. 1.0   \n..       ...         ...                  ...                   ...   \n104  5610410  1675253915  8963603339518700811   SPA WebSDK ver. 1.0   \n105  5610410  1675253916 -3078137023039660317   SPA WebSDK ver. 1.0   \n106  5610410  1675253916  2288299052224170527   SPA WebSDK ver. 1.0   \n107  5610410  1675253918 -7515928846097923806   SPA WebSDK ver. 1.0   \n108  5610410  1675253939 -8321355592495752034   SPA WebSDK ver. 1.0   \n\n    t_ua_browser_family t_ua_os_family Case Step FirstTime  \n0                Chrome        Windows                      \n1                Chrome        Windows                      \n2                Chrome        Windows                      \n3                Chrome        Windows                      \n4                Chrome        Windows                      \n..                  ...            ...  ...  ...       ...  \n104              Chrome        Windows                      \n105              Chrome        Windows                      \n106              Chrome        Windows                      \n107              Chrome        Windows                      \n108              Chrome        Windows                      \n\n[109 rows x 9 columns]",
      "text/html": "<div>\n<style scoped>\n    .dataframe tbody tr th:only-of-type {\n        vertical-align: middle;\n    }\n\n    .dataframe tbody tr th {\n        vertical-align: top;\n    }\n\n    .dataframe thead th {\n        text-align: right;\n    }\n</style>\n<table border=\"1\" class=\"dataframe\">\n  <thead>\n    <tr style=\"text-align: right;\">\n      <th></th>\n      <th>User</th>\n      <th>Date</th>\n      <th>Action</th>\n      <th>t_channel_channelname</th>\n      <th>t_ua_browser_family</th>\n      <th>t_ua_os_family</th>\n      <th>Case</th>\n      <th>Step</th>\n      <th>FirstTime</th>\n    </tr>\n  </thead>\n  <tbody>\n    <tr>\n      <th>0</th>\n      <td>5610410</td>\n      <td>1675253818</td>\n      <td>816458943053036507</td>\n      <td>SPA WebSDK ver. 1.0</td>\n      <td>Chrome</td>\n      <td>Windows</td>\n      <td></td>\n      <td></td>\n      <td></td>\n    </tr>\n    <tr>\n      <th>1</th>\n      <td>5610410</td>\n      <td>1675253831</td>\n      <td>1078481309569142348</td>\n      <td>SPA WebSDK ver. 1.0</td>\n      <td>Chrome</td>\n      <td>Windows</td>\n      <td></td>\n      <td></td>\n      <td></td>\n    </tr>\n    <tr>\n      <th>2</th>\n      <td>5610410</td>\n      <td>1675253832</td>\n      <td>5968215246386644958</td>\n      <td>SPA WebSDK ver. 1.0</td>\n      <td>Chrome</td>\n      <td>Windows</td>\n      <td></td>\n      <td></td>\n      <td></td>\n    </tr>\n    <tr>\n      <th>3</th>\n      <td>5610410</td>\n      <td>1675253834</td>\n      <td>2663893037261661396</td>\n      <td>SPA WebSDK ver. 1.0</td>\n      <td>Chrome</td>\n      <td>Windows</td>\n      <td></td>\n      <td></td>\n      <td></td>\n    </tr>\n    <tr>\n      <th>4</th>\n      <td>5610410</td>\n      <td>1675253835</td>\n      <td>5968215246386644958</td>\n      <td>SPA WebSDK ver. 1.0</td>\n      <td>Chrome</td>\n      <td>Windows</td>\n      <td></td>\n      <td></td>\n      <td></td>\n    </tr>\n    <tr>\n      <th>...</th>\n      <td>...</td>\n      <td>...</td>\n      <td>...</td>\n      <td>...</td>\n      <td>...</td>\n      <td>...</td>\n      <td>...</td>\n      <td>...</td>\n      <td>...</td>\n    </tr>\n    <tr>\n      <th>104</th>\n      <td>5610410</td>\n      <td>1675253915</td>\n      <td>8963603339518700811</td>\n      <td>SPA WebSDK ver. 1.0</td>\n      <td>Chrome</td>\n      <td>Windows</td>\n      <td></td>\n      <td></td>\n      <td></td>\n    </tr>\n    <tr>\n      <th>105</th>\n      <td>5610410</td>\n      <td>1675253916</td>\n      <td>-3078137023039660317</td>\n      <td>SPA WebSDK ver. 1.0</td>\n      <td>Chrome</td>\n      <td>Windows</td>\n      <td></td>\n      <td></td>\n      <td></td>\n    </tr>\n    <tr>\n      <th>106</th>\n      <td>5610410</td>\n      <td>1675253916</td>\n      <td>2288299052224170527</td>\n      <td>SPA WebSDK ver. 1.0</td>\n      <td>Chrome</td>\n      <td>Windows</td>\n      <td></td>\n      <td></td>\n      <td></td>\n    </tr>\n    <tr>\n      <th>107</th>\n      <td>5610410</td>\n      <td>1675253918</td>\n      <td>-7515928846097923806</td>\n      <td>SPA WebSDK ver. 1.0</td>\n      <td>Chrome</td>\n      <td>Windows</td>\n      <td></td>\n      <td></td>\n      <td></td>\n    </tr>\n    <tr>\n      <th>108</th>\n      <td>5610410</td>\n      <td>1675253939</td>\n      <td>-8321355592495752034</td>\n      <td>SPA WebSDK ver. 1.0</td>\n      <td>Chrome</td>\n      <td>Windows</td>\n      <td></td>\n      <td></td>\n      <td></td>\n    </tr>\n  </tbody>\n</table>\n<p>109 rows × 9 columns</p>\n</div>"
     },
     "execution_count": 15,
     "metadata": {},
     "output_type": "execute_result"
    }
   ],
   "source": [
    "# 1 ШАГ - ВЫГРУЗКА ДАННЫХ\n",
    "\n",
    "#выгружаем дата сет из csv\n",
    "# import pandas as pd\n",
    "# df = pd.read_csv('C:/Users/Maria.Ruchkina/Desktop/Исходные данные2.csv', encoding='windows-1251', sep=';')\n",
    "\n",
    "# df['Date'] = pd.to_datetime(df['Date'])\n",
    "# df['Action'] = df['Action'].astype(str)\n",
    "\n",
    "#сортируем данные сначала по пользователю, зачем, для каждого пользователя - по дате\n",
    "df=df.sort_values(by=['User', 'Date', 'Action'])\n",
    "\n",
    "df.reset_index(inplace = True, drop = True)\n",
    "\n",
    "#добавляем столбцы - Случай\n",
    "df[\"Case\"] = ''\n",
    "#добавляем столбцы - Шаг\n",
    "df[\"Step\"] = ''\n",
    "#добавляем столбец - Первый раз\n",
    "df[\"FirstTime\"] = ''\n",
    "\n",
    "df.to_csv(\"исходные данные.csv\", sep=';', encoding='windows-1251')\n",
    "df"
   ]
  },
  {
   "cell_type": "code",
   "execution_count": 15,
   "id": "56c268c1-152a-4a32-adeb-58d229508eb4",
   "metadata": {
    "pycharm": {
     "name": "#%%\n"
    }
   },
   "outputs": [],
   "source": []
  },
  {
   "cell_type": "code",
   "execution_count": 15,
   "id": "ae7f7e99-29b9-490d-a048-f050ad9c41b8",
   "metadata": {
    "pycharm": {
     "name": "#%%\n"
    }
   },
   "outputs": [],
   "source": []
  },
  {
   "cell_type": "code",
   "execution_count": 15,
   "outputs": [],
   "source": [],
   "metadata": {
    "collapsed": false,
    "pycharm": {
     "name": "#%%\n"
    }
   }
  },
  {
   "cell_type": "markdown",
   "source": [],
   "metadata": {
    "collapsed": false,
    "pycharm": {
     "name": "#%% md\n"
    }
   }
  },
  {
   "cell_type": "markdown",
   "source": [],
   "metadata": {
    "collapsed": false,
    "pycharm": {
     "name": "#%% md\n"
    }
   }
  },
  {
   "cell_type": "code",
   "execution_count": 16,
   "id": "cdf1c02f-97b7-426e-af11-619d4948b17b",
   "metadata": {
    "pycharm": {
     "name": "#%%\n"
    }
   },
   "outputs": [],
   "source": [
    "#создаем список шагов\n",
    "\n",
    "steps =[816458943053036507, -5017003053612302618, -8520731022752367714]\n"
   ]
  },
  {
   "cell_type": "code",
   "execution_count": 16,
   "id": "c9a81a2e-f3f9-44ce-ae10-46d4b0b5f7b5",
   "metadata": {
    "pycharm": {
     "name": "#%%\n"
    }
   },
   "outputs": [],
   "source": []
  },
  {
   "cell_type": "markdown",
   "source": [],
   "metadata": {
    "collapsed": false,
    "pycharm": {
     "name": "#%% md\n"
    }
   }
  },
  {
   "cell_type": "code",
   "execution_count": 17,
   "id": "a2a6bf91-db2c-491c-958b-1977cb54910d",
   "metadata": {
    "pycharm": {
     "name": "#%%\n"
    }
   },
   "outputs": [
    {
     "data": {
      "text/plain": "       User        Date               Action t_channel_channelname  \\\n0   5610410  1675253818   816458943053036507   SPA WebSDK ver. 1.0   \n33  5610410  1675253873 -5017003053612302618   SPA WebSDK ver. 1.0   \n57  5610410  1675253880 -8520731022752367714   SPA WebSDK ver. 1.0   \n\n   t_ua_browser_family t_ua_os_family Case Step FirstTime  \n0               Chrome        Windows    1    1      True  \n33              Chrome        Windows    1    2      True  \n57              Chrome        Windows    1    3      True  ",
      "text/html": "<div>\n<style scoped>\n    .dataframe tbody tr th:only-of-type {\n        vertical-align: middle;\n    }\n\n    .dataframe tbody tr th {\n        vertical-align: top;\n    }\n\n    .dataframe thead th {\n        text-align: right;\n    }\n</style>\n<table border=\"1\" class=\"dataframe\">\n  <thead>\n    <tr style=\"text-align: right;\">\n      <th></th>\n      <th>User</th>\n      <th>Date</th>\n      <th>Action</th>\n      <th>t_channel_channelname</th>\n      <th>t_ua_browser_family</th>\n      <th>t_ua_os_family</th>\n      <th>Case</th>\n      <th>Step</th>\n      <th>FirstTime</th>\n    </tr>\n  </thead>\n  <tbody>\n    <tr>\n      <th>0</th>\n      <td>5610410</td>\n      <td>1675253818</td>\n      <td>816458943053036507</td>\n      <td>SPA WebSDK ver. 1.0</td>\n      <td>Chrome</td>\n      <td>Windows</td>\n      <td>1</td>\n      <td>1</td>\n      <td>True</td>\n    </tr>\n    <tr>\n      <th>33</th>\n      <td>5610410</td>\n      <td>1675253873</td>\n      <td>-5017003053612302618</td>\n      <td>SPA WebSDK ver. 1.0</td>\n      <td>Chrome</td>\n      <td>Windows</td>\n      <td>1</td>\n      <td>2</td>\n      <td>True</td>\n    </tr>\n    <tr>\n      <th>57</th>\n      <td>5610410</td>\n      <td>1675253880</td>\n      <td>-8520731022752367714</td>\n      <td>SPA WebSDK ver. 1.0</td>\n      <td>Chrome</td>\n      <td>Windows</td>\n      <td>1</td>\n      <td>3</td>\n      <td>True</td>\n    </tr>\n  </tbody>\n</table>\n</div>"
     },
     "execution_count": 17,
     "metadata": {},
     "output_type": "execute_result"
    }
   ],
   "source": [
    "# 2 ШАГ - ДЛЯ ПРОСТОГО ПОРЯДКА - РАЗМЕЧАЕМ СОБЫТИЯ В ДАТА СЕТЕ\n",
    "\n",
    "# caseNumber - счетчик для случаев\n",
    "caseNumber = 1\n",
    "\n",
    "# счетчик для шагов\n",
    "stepNumber = 0\n",
    "\n",
    "# цикл по шагам воронки\n",
    "for step in steps:\n",
    "    stepNumber = stepNumber + 1\n",
    "    \n",
    "    # цикл по списку событий\n",
    "    for i, row in df.iterrows():\n",
    "        \n",
    "        # работаем с записью только если для нее не определен шаг\n",
    "        if row['Step'] == '':\n",
    "            \n",
    "            # если у записи событие = текущему шагу воронки\n",
    "            if row['Action'] == step:\n",
    "                \n",
    "                # Пропускаем текущее событие, если:\n",
    "                # Это не первая запись ИЛИ у предыдущей записи тот же юзер, событие и для него определен тот же шаг или шаг не опрделен\n",
    "                # Это необходимо, так как если записи о событии от одного и того же пользователя идут подряд, мы считаем это одним и тем же шагом, а также для для того, чтобы не пропустить шаг, если для 2 шагов указано одно и то же событие\n",
    "                \n",
    "                if i==0 or (df.iloc[i-1]['User'] == row['User'] and df.iloc[i-1]['Action'] == step and (df.iloc[i-1]['Step'] == stepNumber or df.iloc[i-1]['Step'] == '')) == False:\n",
    "                    \n",
    "                    # если текущий шаг - первый, фиксируем случай и шаг\n",
    "                    if stepNumber == 1:\n",
    "                        df.at[i, 'Case']=caseNumber\n",
    "                        df.at[i, 'Step'] = stepNumber\n",
    "                        df.at[i, 'FirstTime']=True\n",
    "                        caseNumber = caseNumber + 1\n",
    "                    # если текущий шаг - не первый\n",
    "                    else:\n",
    "                        # ищем предыдущий шаг, так как шаги должны идти друг за другом, а так же чтобы идентифицировать случай\n",
    "                        \n",
    "                        prev_steps = df[(df['User'] == row['User']) & (df['Step'] == (stepNumber-1)) & (df['Date'] < row['Date'])]\n",
    "                        \n",
    "                        # если нашли записи, которые могут быть предыдущими шагами\n",
    "                        \n",
    "                        if prev_steps.empty == False: \n",
    "                            # получаем самую последнюю по дате запись - это и будет предыдущий шаг для текущей воронки\n",
    "                         #   idxmax = prev_steps[['Date']].idxmax()\n",
    "                         #   prev_step=prev_steps.loc[idxmax].iloc[0]\n",
    "                            \n",
    "                            prev_step=prev_steps.tail(n=1).iloc[0]\n",
    " \n",
    "                            # если нашли предыдущий шаг\n",
    "                            if prev_step.empty == False:\n",
    "                                # ищем, не был ли уже определен текущий шаг для соотв. случая\n",
    "                                sameStep = df[(df['User'] == row['User']) & (df['Step'] == stepNumber) & (df['Case'] == prev_step['Case'])]\n",
    "                                # если не нашли такой же шаг\n",
    "                                if sameStep.empty == True:\n",
    "                                    breakingStep = df[(df['User'] == row['User']) & (df['Step'] == 1) & (df['Date'] < row['Date']) & (df['Date'] > prev_step['Date'])]\n",
    "                                    if breakingStep.empty == True:\n",
    "                                        df.at[i, 'Case'] = prev_step['Case']\n",
    "                                        df.at[i, 'Step'] = stepNumber\n",
    "                                        df.at[i, 'FirstTime']=True\n",
    "                                        \n",
    "df_res=df[df.FirstTime == True]\n",
    "df.to_csv(\"размеченные данные.csv\", sep=';', encoding='windows-1251')\n",
    "\n",
    "df_res"
   ]
  },
  {
   "cell_type": "code",
   "execution_count": 17,
   "id": "320a5385-7375-42c7-8bbb-e1136df57395",
   "metadata": {
    "pycharm": {
     "name": "#%%\n"
    }
   },
   "outputs": [],
   "source": []
  },
  {
   "cell_type": "code",
   "execution_count": 17,
   "id": "3c856a4a-f7b6-426f-bb81-123e1473c2ab",
   "metadata": {
    "pycharm": {
     "name": "#%%\n"
    }
   },
   "outputs": [],
   "source": []
  },
  {
   "cell_type": "code",
   "execution_count": 18,
   "id": "999884e8-aa14-4d02-8299-16056c8ad9cb",
   "metadata": {
    "pycharm": {
     "name": "#%%\n"
    }
   },
   "outputs": [
    {
     "data": {
      "text/plain": "  Case     User       Step1 Diff_Step2       Step2 Diff_Step3       Step3\n0    1  5610410  1675253818         55  1675253873          7  1675253880",
      "text/html": "<div>\n<style scoped>\n    .dataframe tbody tr th:only-of-type {\n        vertical-align: middle;\n    }\n\n    .dataframe tbody tr th {\n        vertical-align: top;\n    }\n\n    .dataframe thead th {\n        text-align: right;\n    }\n</style>\n<table border=\"1\" class=\"dataframe\">\n  <thead>\n    <tr style=\"text-align: right;\">\n      <th></th>\n      <th>Case</th>\n      <th>User</th>\n      <th>Step1</th>\n      <th>Diff_Step2</th>\n      <th>Step2</th>\n      <th>Diff_Step3</th>\n      <th>Step3</th>\n    </tr>\n  </thead>\n  <tbody>\n    <tr>\n      <th>0</th>\n      <td>1</td>\n      <td>5610410</td>\n      <td>1675253818</td>\n      <td>55</td>\n      <td>1675253873</td>\n      <td>7</td>\n      <td>1675253880</td>\n    </tr>\n  </tbody>\n</table>\n</div>"
     },
     "execution_count": 18,
     "metadata": {},
     "output_type": "execute_result"
    }
   ],
   "source": [
    "# ФОРМИРУЕМ СЛУЧАИ\n",
    "\n",
    "cases_list = pd.DataFrame({'Case': df_res.Case.unique()})\n",
    "cases_list[\"User\"]=''\n",
    "\n",
    "step_number = 0\n",
    "\n",
    "for step in steps:\n",
    "    step_number = step_number + 1\n",
    "    if step_number != 1:\n",
    "        cases_list[\"Diff_Step\"+str(step_number)] = ''\n",
    "    cases_list[\"Step\"+str(step_number)] = ''\n",
    "    \n",
    "for i, case in cases_list.iterrows():\n",
    "    step_number = 0\n",
    "    for step in steps:\n",
    "        step_number = step_number + 1\n",
    "        step_row = df_res[(df_res['Case'] == case['Case']) & (df_res['Step'] == step_number)]\n",
    "        if step_row.empty == False:\n",
    "            cases_list.at[i, \"Step\" + str(step_number)]=step_row.iloc[0].Date\n",
    "            cases_list.at[i, 'User']=step_row.iloc[0].User\n",
    "            if step_number != 1:\n",
    "                cases_list.at[i, \"Diff_Step\" + str(step_number)] = (cases_list.at[i, \"Step\" + str(step_number)] - cases_list.at[i, \"Step\" + str(step_number-1)])\n",
    "                \n",
    "cases_list"
   ]
  },
  {
   "cell_type": "code",
   "execution_count": 18,
   "id": "28f9c24f-b18e-4ad3-ae6f-124b61ba91be",
   "metadata": {
    "pycharm": {
     "name": "#%%\n"
    }
   },
   "outputs": [],
   "source": []
  },
  {
   "cell_type": "code",
   "execution_count": 19,
   "id": "a71a6b3f-721b-4163-8f5b-533b02063295",
   "metadata": {
    "pycharm": {
     "name": "#%%\n"
    }
   },
   "outputs": [
    {
     "name": "stdout",
     "output_type": "stream",
     "text": [
      "Шаг 1:\n",
      "Количество случаев =1\n",
      "Количество пользователей = 1\n",
      "Шаг 2:\n",
      "Количество случаев =1\n",
      "Количество пользователей = 1\n",
      "Среднее время после предыдущего шага = 55.0\n",
      "Среднее время после предыдущего шага (медиана) = 55.0\n",
      "Шаг 3:\n",
      "Количество случаев =1\n",
      "Количество пользователей = 1\n",
      "Среднее время после предыдущего шага = 7.0\n",
      "Среднее время после предыдущего шага (медиана) = 7.0\n"
     ]
    }
   ],
   "source": [
    "# ОТОБРАЖАЕМ МЕТРИКИ\n",
    "\n",
    "step_number = 0\n",
    "\n",
    "for step in steps:\n",
    "    step_number = step_number + 1    \n",
    "    print(\"Шаг \"+ str(step_number)+\":\")\n",
    "    step_df=cases_list[cases_list[\"Step\"+str(step_number)] != '']\n",
    "    print(\"Количество случаев =\"+ str(step_df.shape[0]))\n",
    "    print(\"Количество пользователей = \" + str(step_df.User.unique().shape[0]))\n",
    "    if step_number != 1:\n",
    "        print(\"Среднее время после предыдущего шага = \" + str(step_df[\"Diff_Step\" + str(step_number)].mean()))\n",
    "        print(\"Среднее время после предыдущего шага (медиана) = \" + str(step_df[\"Diff_Step\" + str(step_number)].median()))"
   ]
  },
  {
   "cell_type": "code",
   "execution_count": 19,
   "id": "b3628af8-35a7-4ae1-8f3f-e11844baff71",
   "metadata": {
    "pycharm": {
     "name": "#%%\n"
    }
   },
   "outputs": [],
   "source": []
  },
  {
   "cell_type": "code",
   "execution_count": 19,
   "id": "7487d3f5-75a7-4469-bca6-29342f0f6173",
   "metadata": {
    "pycharm": {
     "name": "#%%\n"
    }
   },
   "outputs": [],
   "source": []
  },
  {
   "cell_type": "code",
   "execution_count": 19,
   "id": "e8ecd214-88a9-4bbe-a1c3-94cba5906865",
   "metadata": {
    "pycharm": {
     "name": "#%%\n"
    }
   },
   "outputs": [],
   "source": []
  },
  {
   "cell_type": "code",
   "execution_count": 19,
   "id": "b9b5e372-816e-482b-9310-fb97459cf2ad",
   "metadata": {
    "pycharm": {
     "name": "#%%\n"
    }
   },
   "outputs": [],
   "source": []
  },
  {
   "cell_type": "code",
   "execution_count": 19,
   "id": "89496ba9-cec4-4150-9176-d49be80c44ec",
   "metadata": {
    "pycharm": {
     "name": "#%%\n"
    }
   },
   "outputs": [],
   "source": []
  },
  {
   "cell_type": "code",
   "execution_count": 19,
   "id": "182a639d-3225-4556-b85c-b2409cc249a5",
   "metadata": {
    "pycharm": {
     "name": "#%%\n"
    }
   },
   "outputs": [],
   "source": []
  },
  {
   "cell_type": "code",
   "execution_count": 19,
   "id": "faf9264b-6e97-4fb3-a885-a7f3690d8218",
   "metadata": {
    "pycharm": {
     "name": "#%%\n"
    }
   },
   "outputs": [],
   "source": []
  },
  {
   "cell_type": "code",
   "execution_count": 19,
   "id": "b141b18b-647a-4785-840b-3cc93f8ba27b",
   "metadata": {
    "pycharm": {
     "name": "#%%\n"
    }
   },
   "outputs": [],
   "source": []
  },
  {
   "cell_type": "code",
   "execution_count": 19,
   "id": "687e3818-05ab-40d5-b738-00a646ab4adc",
   "metadata": {
    "pycharm": {
     "name": "#%%\n"
    }
   },
   "outputs": [],
   "source": []
  },
  {
   "cell_type": "code",
   "execution_count": 19,
   "id": "e5e6217a-3b8f-4582-a337-3fe7205a60fb",
   "metadata": {
    "pycharm": {
     "name": "#%%\n"
    }
   },
   "outputs": [],
   "source": []
  },
  {
   "cell_type": "code",
   "execution_count": 19,
   "id": "edad9d50-8180-455c-a383-7955f7f0a41f",
   "metadata": {
    "pycharm": {
     "name": "#%%\n"
    }
   },
   "outputs": [],
   "source": []
  },
  {
   "cell_type": "code",
   "execution_count": 19,
   "id": "c1cedef6-82a3-490b-8576-ce63d1c45ec9",
   "metadata": {
    "pycharm": {
     "name": "#%%\n"
    }
   },
   "outputs": [],
   "source": []
  },
  {
   "cell_type": "code",
   "execution_count": 19,
   "id": "148d2e2f-8cac-4dac-b3e3-1a4372e4fe20",
   "metadata": {
    "pycharm": {
     "name": "#%%\n"
    }
   },
   "outputs": [],
   "source": []
  },
  {
   "cell_type": "code",
   "execution_count": 19,
   "id": "892d5a18-30bf-4d64-b154-7f17632276a8",
   "metadata": {
    "pycharm": {
     "name": "#%%\n"
    }
   },
   "outputs": [],
   "source": []
  },
  {
   "cell_type": "code",
   "execution_count": 19,
   "id": "07009a18-3fc9-40b3-ab74-72df680dd101",
   "metadata": {
    "pycharm": {
     "name": "#%%\n"
    }
   },
   "outputs": [],
   "source": []
  },
  {
   "cell_type": "code",
   "execution_count": 19,
   "id": "9ebcfac9-e150-4c78-b61a-500c40aafa70",
   "metadata": {
    "pycharm": {
     "name": "#%%\n"
    }
   },
   "outputs": [],
   "source": []
  },
  {
   "cell_type": "code",
   "execution_count": 19,
   "id": "3d9baead-4926-4ab0-b19f-2cbab07cf0ad",
   "metadata": {
    "pycharm": {
     "name": "#%%\n"
    }
   },
   "outputs": [],
   "source": []
  },
  {
   "cell_type": "code",
   "execution_count": 19,
   "id": "357ae12a-e1ab-4e48-9cb7-ab6c8869b60b",
   "metadata": {
    "pycharm": {
     "name": "#%%\n"
    }
   },
   "outputs": [],
   "source": []
  },
  {
   "cell_type": "code",
   "execution_count": 19,
   "id": "080f13cf-d5ff-4d88-922c-78293c887831",
   "metadata": {
    "pycharm": {
     "name": "#%%\n"
    }
   },
   "outputs": [],
   "source": []
  },
  {
   "cell_type": "code",
   "execution_count": 19,
   "id": "9d0160c5-78dd-451a-a20c-99ff6dc3d7b7",
   "metadata": {
    "pycharm": {
     "name": "#%%\n"
    }
   },
   "outputs": [],
   "source": []
  },
  {
   "cell_type": "code",
   "execution_count": 19,
   "id": "f866c528-4b71-492a-96aa-01c8f28305db",
   "metadata": {
    "pycharm": {
     "name": "#%%\n"
    }
   },
   "outputs": [],
   "source": []
  },
  {
   "cell_type": "code",
   "execution_count": 19,
   "id": "020ca49c-a038-45ab-8f55-ced06d5ad423",
   "metadata": {
    "pycharm": {
     "name": "#%%\n"
    }
   },
   "outputs": [],
   "source": []
  },
  {
   "cell_type": "code",
   "execution_count": 19,
   "id": "dc9e97c3-62d5-4e18-a66d-d09ace143201",
   "metadata": {
    "pycharm": {
     "name": "#%%\n"
    }
   },
   "outputs": [],
   "source": []
  },
  {
   "cell_type": "code",
   "execution_count": 19,
   "id": "1ff08011-0293-456b-9c1d-b1a2c95e0ab7",
   "metadata": {
    "pycharm": {
     "name": "#%%\n"
    }
   },
   "outputs": [],
   "source": []
  },
  {
   "cell_type": "code",
   "execution_count": 19,
   "id": "921841df-57de-4ede-abb8-c6bb102f1e72",
   "metadata": {
    "pycharm": {
     "name": "#%%\n"
    }
   },
   "outputs": [],
   "source": []
  },
  {
   "cell_type": "code",
   "execution_count": 19,
   "id": "da869a21-2979-4440-8407-21103fc79911",
   "metadata": {
    "pycharm": {
     "name": "#%%\n"
    }
   },
   "outputs": [],
   "source": []
  },
  {
   "cell_type": "code",
   "execution_count": 19,
   "id": "43b212dd-54f8-4df1-84c4-00314bbada39",
   "metadata": {
    "pycharm": {
     "name": "#%%\n"
    }
   },
   "outputs": [],
   "source": []
  },
  {
   "cell_type": "code",
   "execution_count": 19,
   "id": "9934a059-258a-409d-b821-f3ec75675a5d",
   "metadata": {
    "pycharm": {
     "name": "#%%\n"
    }
   },
   "outputs": [],
   "source": []
  },
  {
   "cell_type": "code",
   "execution_count": 19,
   "id": "b3b6fe0e-6b20-4b4b-92ac-561c72c039b1",
   "metadata": {
    "pycharm": {
     "name": "#%%\n"
    }
   },
   "outputs": [],
   "source": []
  },
  {
   "cell_type": "code",
   "execution_count": 19,
   "id": "775ca6c5-4acf-470a-8bb4-a70d7ffde0a6",
   "metadata": {
    "pycharm": {
     "name": "#%%\n"
    }
   },
   "outputs": [],
   "source": []
  },
  {
   "cell_type": "code",
   "execution_count": 19,
   "id": "ee44c8ef-30af-4e04-a01d-a863aed75599",
   "metadata": {
    "pycharm": {
     "name": "#%%\n"
    }
   },
   "outputs": [],
   "source": []
  },
  {
   "cell_type": "code",
   "execution_count": 19,
   "id": "605a8bd5-7c8d-4952-9f83-1e5290f0fe3b",
   "metadata": {
    "pycharm": {
     "name": "#%%\n"
    }
   },
   "outputs": [],
   "source": []
  },
  {
   "cell_type": "code",
   "execution_count": 19,
   "id": "2fe3abda-3716-456e-9044-91f89a70c4ba",
   "metadata": {
    "pycharm": {
     "name": "#%%\n"
    }
   },
   "outputs": [],
   "source": []
  },
  {
   "cell_type": "code",
   "execution_count": 19,
   "id": "80094676-ae9c-48a5-a5f8-05e957a07ca8",
   "metadata": {
    "pycharm": {
     "name": "#%%\n"
    }
   },
   "outputs": [],
   "source": []
  },
  {
   "cell_type": "code",
   "execution_count": 19,
   "id": "cee5aff4-04ae-45f1-9425-0528bdf1d355",
   "metadata": {
    "pycharm": {
     "name": "#%%\n"
    }
   },
   "outputs": [],
   "source": []
  },
  {
   "cell_type": "code",
   "execution_count": 19,
   "id": "b8dcf4cc-92ef-4938-999f-f0d8826526f8",
   "metadata": {
    "pycharm": {
     "name": "#%%\n"
    }
   },
   "outputs": [],
   "source": []
  },
  {
   "cell_type": "code",
   "execution_count": 19,
   "id": "47686622-fc15-423f-8d02-4c83d56df705",
   "metadata": {
    "pycharm": {
     "name": "#%%\n"
    }
   },
   "outputs": [],
   "source": []
  },
  {
   "cell_type": "code",
   "execution_count": 19,
   "id": "827e25dc-66fb-4b5e-aca4-9b194d10cb3f",
   "metadata": {
    "pycharm": {
     "name": "#%%\n"
    }
   },
   "outputs": [],
   "source": []
  },
  {
   "cell_type": "code",
   "execution_count": 19,
   "id": "f7dd2153-611a-47e2-a598-7bb773b6e5c8",
   "metadata": {
    "pycharm": {
     "name": "#%%\n"
    }
   },
   "outputs": [],
   "source": []
  },
  {
   "cell_type": "code",
   "execution_count": 19,
   "id": "5134ccd0-1821-44aa-be35-bd1b8e58bc6b",
   "metadata": {
    "pycharm": {
     "name": "#%%\n"
    }
   },
   "outputs": [],
   "source": []
  },
  {
   "cell_type": "code",
   "execution_count": 19,
   "id": "a530037d-064b-4697-a17c-a5b7592886b1",
   "metadata": {
    "pycharm": {
     "name": "#%%\n"
    }
   },
   "outputs": [],
   "source": []
  },
  {
   "cell_type": "code",
   "execution_count": 19,
   "id": "63a82513-d1cc-4265-897e-fd6a87a5f67b",
   "metadata": {
    "pycharm": {
     "name": "#%%\n"
    }
   },
   "outputs": [],
   "source": []
  },
  {
   "cell_type": "code",
   "execution_count": 19,
   "id": "70f875fc-6485-4353-b1e7-67793e909998",
   "metadata": {
    "pycharm": {
     "name": "#%%\n"
    }
   },
   "outputs": [],
   "source": []
  },
  {
   "cell_type": "code",
   "execution_count": 19,
   "id": "e509fab4-8ca0-4493-a95a-d1aa1038a7da",
   "metadata": {
    "pycharm": {
     "name": "#%%\n"
    }
   },
   "outputs": [],
   "source": []
  },
  {
   "cell_type": "code",
   "execution_count": 19,
   "id": "f693ce22-2ea3-4326-81bb-577795ea4161",
   "metadata": {
    "pycharm": {
     "name": "#%%\n"
    }
   },
   "outputs": [],
   "source": []
  },
  {
   "cell_type": "code",
   "execution_count": 19,
   "id": "6a9940a0-609c-4a8a-9d70-34ec8df656b5",
   "metadata": {
    "pycharm": {
     "name": "#%%\n"
    }
   },
   "outputs": [],
   "source": []
  },
  {
   "cell_type": "code",
   "execution_count": 19,
   "id": "085cf0fc-9d4a-408d-b73a-716b24a43ac8",
   "metadata": {
    "pycharm": {
     "name": "#%%\n"
    }
   },
   "outputs": [],
   "source": []
  },
  {
   "cell_type": "code",
   "execution_count": 19,
   "id": "d1ee6879-a1b0-4306-9f2b-c539db66a486",
   "metadata": {
    "pycharm": {
     "name": "#%%\n"
    }
   },
   "outputs": [],
   "source": []
  },
  {
   "cell_type": "code",
   "execution_count": 19,
   "id": "19676b72-fe58-4d3a-af03-3d1f219031d4",
   "metadata": {
    "pycharm": {
     "name": "#%%\n"
    }
   },
   "outputs": [],
   "source": []
  },
  {
   "cell_type": "code",
   "execution_count": 19,
   "id": "2572f00f-0e1d-43f3-b2a8-c6352952406a",
   "metadata": {
    "pycharm": {
     "name": "#%%\n"
    }
   },
   "outputs": [],
   "source": []
  },
  {
   "cell_type": "code",
   "execution_count": 19,
   "id": "23f2f90d-ce1b-4514-be06-b97311cee8a2",
   "metadata": {
    "pycharm": {
     "name": "#%%\n"
    }
   },
   "outputs": [],
   "source": []
  },
  {
   "cell_type": "code",
   "execution_count": 19,
   "id": "ce58a7ed-cf97-4fbd-97a6-c759d7257d51",
   "metadata": {
    "pycharm": {
     "name": "#%%\n"
    }
   },
   "outputs": [],
   "source": []
  },
  {
   "cell_type": "code",
   "execution_count": 19,
   "id": "254bd605-dfd0-4261-bf2c-c285d361d501",
   "metadata": {
    "pycharm": {
     "name": "#%%\n"
    }
   },
   "outputs": [],
   "source": []
  },
  {
   "cell_type": "code",
   "execution_count": 19,
   "id": "11ce2ca2-be5a-4ecd-9490-0828097b7c16",
   "metadata": {
    "pycharm": {
     "name": "#%%\n"
    }
   },
   "outputs": [],
   "source": []
  },
  {
   "cell_type": "code",
   "execution_count": 19,
   "id": "2021d0b3-88de-489e-b442-1ef4c00b9ac4",
   "metadata": {
    "pycharm": {
     "name": "#%%\n"
    }
   },
   "outputs": [],
   "source": []
  },
  {
   "cell_type": "code",
   "execution_count": 19,
   "id": "9b499bfe-0924-41bd-9cb4-6bbbdb6ad2e9",
   "metadata": {
    "pycharm": {
     "name": "#%%\n"
    }
   },
   "outputs": [],
   "source": []
  },
  {
   "cell_type": "code",
   "execution_count": 19,
   "id": "0c13ead9-4020-40d2-bf48-36c7a68ae18b",
   "metadata": {
    "pycharm": {
     "name": "#%%\n"
    }
   },
   "outputs": [],
   "source": []
  },
  {
   "cell_type": "code",
   "execution_count": 19,
   "id": "9cfd3384-5fcf-47c4-bf93-851098ca9ab4",
   "metadata": {
    "pycharm": {
     "name": "#%%\n"
    }
   },
   "outputs": [],
   "source": []
  },
  {
   "cell_type": "code",
   "execution_count": 19,
   "id": "b1d19981-41de-4324-bfeb-d64ca78d98f2",
   "metadata": {
    "pycharm": {
     "name": "#%%\n"
    }
   },
   "outputs": [],
   "source": []
  },
  {
   "cell_type": "code",
   "execution_count": 19,
   "id": "0fee4ff3-ed88-4557-82a3-c42f40848d63",
   "metadata": {
    "pycharm": {
     "name": "#%%\n"
    }
   },
   "outputs": [],
   "source": []
  },
  {
   "cell_type": "code",
   "execution_count": 19,
   "id": "b876e099-fbdd-478a-8efb-b348a6cac72d",
   "metadata": {
    "pycharm": {
     "name": "#%%\n"
    }
   },
   "outputs": [],
   "source": []
  },
  {
   "cell_type": "code",
   "execution_count": 19,
   "id": "862d5e1d-5db0-4ee2-929a-40fef5bdff07",
   "metadata": {
    "pycharm": {
     "name": "#%%\n"
    }
   },
   "outputs": [],
   "source": []
  },
  {
   "cell_type": "code",
   "execution_count": 19,
   "id": "059b204a-f4cc-4fd3-a69b-6966efaf6ac4",
   "metadata": {
    "pycharm": {
     "name": "#%%\n"
    }
   },
   "outputs": [],
   "source": []
  },
  {
   "cell_type": "code",
   "execution_count": 19,
   "id": "520c0d1e-7964-40ca-8cf1-38ea99bca50a",
   "metadata": {
    "pycharm": {
     "name": "#%%\n"
    }
   },
   "outputs": [],
   "source": []
  },
  {
   "cell_type": "code",
   "execution_count": 19,
   "id": "c430e163-0cd5-4d48-859c-e534ef635176",
   "metadata": {
    "pycharm": {
     "name": "#%%\n"
    }
   },
   "outputs": [],
   "source": []
  },
  {
   "cell_type": "code",
   "execution_count": 19,
   "id": "f7e00aa1-25ab-4e3e-a173-ab643f2d8b61",
   "metadata": {
    "pycharm": {
     "name": "#%%\n"
    }
   },
   "outputs": [],
   "source": []
  },
  {
   "cell_type": "code",
   "execution_count": 19,
   "id": "3d80b777-5695-4ac9-862f-b2a4996ff551",
   "metadata": {
    "pycharm": {
     "name": "#%%\n"
    }
   },
   "outputs": [],
   "source": []
  },
  {
   "cell_type": "code",
   "execution_count": 19,
   "id": "1e666175-1fc7-428b-ac99-87aad8870a6b",
   "metadata": {
    "pycharm": {
     "name": "#%%\n"
    }
   },
   "outputs": [],
   "source": []
  },
  {
   "cell_type": "code",
   "execution_count": 19,
   "id": "18c660ac-53fb-4b79-a1e8-aea404d31c09",
   "metadata": {
    "pycharm": {
     "name": "#%%\n"
    }
   },
   "outputs": [],
   "source": []
  },
  {
   "cell_type": "code",
   "execution_count": 19,
   "id": "aa1f72a0-b3c1-4fdd-976f-6745e1bb55ca",
   "metadata": {
    "pycharm": {
     "name": "#%%\n"
    }
   },
   "outputs": [],
   "source": []
  },
  {
   "cell_type": "code",
   "execution_count": 19,
   "id": "67bf04ac-f925-4a92-8751-c9da8b0399df",
   "metadata": {
    "pycharm": {
     "name": "#%%\n"
    }
   },
   "outputs": [],
   "source": []
  },
  {
   "cell_type": "code",
   "execution_count": 19,
   "id": "573f14d6-1839-42f3-b8f5-2a321f2dff43",
   "metadata": {
    "pycharm": {
     "name": "#%%\n"
    }
   },
   "outputs": [],
   "source": []
  },
  {
   "cell_type": "code",
   "execution_count": 19,
   "id": "24192d02-deb0-4110-a04d-798325b989a1",
   "metadata": {
    "pycharm": {
     "name": "#%%\n"
    }
   },
   "outputs": [],
   "source": []
  },
  {
   "cell_type": "code",
   "execution_count": 19,
   "id": "cb7ac379-d1d6-4242-a0d7-60d9316d7002",
   "metadata": {
    "pycharm": {
     "name": "#%%\n"
    }
   },
   "outputs": [],
   "source": []
  },
  {
   "cell_type": "code",
   "execution_count": 19,
   "id": "6e1a2a75-7a6a-4fef-bc91-21a7b67c67fc",
   "metadata": {
    "pycharm": {
     "name": "#%%\n"
    }
   },
   "outputs": [],
   "source": []
  },
  {
   "cell_type": "code",
   "execution_count": 19,
   "id": "2f377bf7-03e6-4a35-ac60-1e3a467d65e0",
   "metadata": {
    "pycharm": {
     "name": "#%%\n"
    }
   },
   "outputs": [],
   "source": []
  },
  {
   "cell_type": "code",
   "execution_count": 19,
   "id": "b058d9c1-db34-4a6d-ade0-c59ba29a87ae",
   "metadata": {
    "pycharm": {
     "name": "#%%\n"
    }
   },
   "outputs": [],
   "source": []
  },
  {
   "cell_type": "code",
   "execution_count": 19,
   "id": "3fed236b-4433-4aea-b289-15133ee7a84e",
   "metadata": {
    "pycharm": {
     "name": "#%%\n"
    }
   },
   "outputs": [],
   "source": []
  },
  {
   "cell_type": "code",
   "execution_count": 19,
   "id": "65b81d76-97e6-470f-9921-3fb3735494cc",
   "metadata": {
    "pycharm": {
     "name": "#%%\n"
    }
   },
   "outputs": [],
   "source": []
  },
  {
   "cell_type": "code",
   "execution_count": 19,
   "id": "4630778d-a2c7-4971-978f-23fee33d4ae7",
   "metadata": {
    "pycharm": {
     "name": "#%%\n"
    }
   },
   "outputs": [],
   "source": []
  },
  {
   "cell_type": "code",
   "execution_count": 19,
   "id": "b796208d-6ffe-46eb-8f54-b6c9430f789f",
   "metadata": {
    "pycharm": {
     "name": "#%%\n"
    }
   },
   "outputs": [],
   "source": []
  },
  {
   "cell_type": "code",
   "execution_count": 19,
   "id": "7143fd91-2258-457c-8fd5-036700712ec4",
   "metadata": {
    "pycharm": {
     "name": "#%%\n"
    }
   },
   "outputs": [],
   "source": []
  },
  {
   "cell_type": "code",
   "execution_count": 19,
   "id": "e4eaa9f0-85b5-4b06-b5ba-66abbc477f2c",
   "metadata": {
    "pycharm": {
     "name": "#%%\n"
    }
   },
   "outputs": [],
   "source": []
  },
  {
   "cell_type": "code",
   "execution_count": 19,
   "id": "e34445bd-ced6-4864-91b8-ecf843b5ab56",
   "metadata": {
    "pycharm": {
     "name": "#%%\n"
    }
   },
   "outputs": [],
   "source": []
  },
  {
   "cell_type": "code",
   "execution_count": 19,
   "id": "d1d91321-74be-4ad9-8608-be0b57b730a1",
   "metadata": {
    "pycharm": {
     "name": "#%%\n"
    }
   },
   "outputs": [],
   "source": []
  },
  {
   "cell_type": "code",
   "execution_count": 19,
   "id": "d821a0a8-a57f-467f-9a8f-6b314b40e7e8",
   "metadata": {
    "pycharm": {
     "name": "#%%\n"
    }
   },
   "outputs": [],
   "source": []
  },
  {
   "cell_type": "code",
   "execution_count": 19,
   "id": "e5df963d-c7ff-4b76-a801-ec3f7c3e0675",
   "metadata": {
    "pycharm": {
     "name": "#%%\n"
    }
   },
   "outputs": [],
   "source": []
  },
  {
   "cell_type": "code",
   "execution_count": 19,
   "id": "fc325cb3-36f2-4c12-a88a-2f2952fda3fc",
   "metadata": {
    "pycharm": {
     "name": "#%%\n"
    }
   },
   "outputs": [],
   "source": []
  },
  {
   "cell_type": "code",
   "execution_count": 19,
   "id": "9bca28fd-6c2e-4ffb-862a-26cd684d0de4",
   "metadata": {
    "pycharm": {
     "name": "#%%\n"
    }
   },
   "outputs": [],
   "source": []
  },
  {
   "cell_type": "code",
   "execution_count": 19,
   "id": "5e69d69d-eeed-4c10-9669-b84d82aac027",
   "metadata": {
    "pycharm": {
     "name": "#%%\n"
    }
   },
   "outputs": [],
   "source": []
  },
  {
   "cell_type": "code",
   "execution_count": 19,
   "id": "25fc717a-fe28-4d32-b1fa-f1137c327676",
   "metadata": {
    "pycharm": {
     "name": "#%%\n"
    }
   },
   "outputs": [],
   "source": []
  },
  {
   "cell_type": "code",
   "execution_count": 19,
   "id": "247452aa-527a-436e-a4c4-15fb6e1e0767",
   "metadata": {
    "pycharm": {
     "name": "#%%\n"
    }
   },
   "outputs": [],
   "source": []
  },
  {
   "cell_type": "code",
   "execution_count": 19,
   "id": "b230d3fa-2b28-4176-96a0-3393d507334c",
   "metadata": {
    "pycharm": {
     "name": "#%%\n"
    }
   },
   "outputs": [],
   "source": []
  },
  {
   "cell_type": "code",
   "execution_count": 19,
   "id": "31abefb7-e94e-4515-878b-1860faa07647",
   "metadata": {
    "pycharm": {
     "name": "#%%\n"
    }
   },
   "outputs": [],
   "source": []
  },
  {
   "cell_type": "code",
   "execution_count": 19,
   "id": "c01abbd1-6c7f-4f91-97be-fcf100d59ca2",
   "metadata": {
    "pycharm": {
     "name": "#%%\n"
    }
   },
   "outputs": [],
   "source": []
  },
  {
   "cell_type": "code",
   "execution_count": 19,
   "id": "1f77b744-4698-4fe4-b17d-c8a07eff2b80",
   "metadata": {
    "pycharm": {
     "name": "#%%\n"
    }
   },
   "outputs": [],
   "source": []
  },
  {
   "cell_type": "code",
   "execution_count": 19,
   "id": "b2818f11-29d5-42c5-a856-4c43b7cb8de6",
   "metadata": {
    "pycharm": {
     "name": "#%%\n"
    }
   },
   "outputs": [],
   "source": []
  },
  {
   "cell_type": "code",
   "execution_count": 19,
   "id": "e407efd1-5c21-43b4-9455-84626e81db2b",
   "metadata": {
    "pycharm": {
     "name": "#%%\n"
    }
   },
   "outputs": [],
   "source": []
  },
  {
   "cell_type": "code",
   "execution_count": 19,
   "id": "90c49f1e-8411-4f6a-a1aa-5e74edfbf867",
   "metadata": {
    "pycharm": {
     "name": "#%%\n"
    }
   },
   "outputs": [],
   "source": []
  },
  {
   "cell_type": "code",
   "execution_count": 19,
   "id": "1d0df6fc-0548-42db-8236-b0a32448aa83",
   "metadata": {
    "pycharm": {
     "name": "#%%\n"
    }
   },
   "outputs": [],
   "source": []
  },
  {
   "cell_type": "code",
   "execution_count": 19,
   "id": "4a2ace61-38b7-4766-bc73-1721c74b5bef",
   "metadata": {
    "pycharm": {
     "name": "#%%\n"
    }
   },
   "outputs": [],
   "source": []
  },
  {
   "cell_type": "code",
   "execution_count": 19,
   "id": "96b8b8e0-3fdb-4cc3-bf77-20d6b48a057b",
   "metadata": {
    "pycharm": {
     "name": "#%%\n"
    }
   },
   "outputs": [],
   "source": []
  },
  {
   "cell_type": "code",
   "execution_count": 19,
   "id": "8a069797-95e6-448d-9efb-81d1f0a67310",
   "metadata": {
    "pycharm": {
     "name": "#%%\n"
    }
   },
   "outputs": [],
   "source": []
  },
  {
   "cell_type": "code",
   "execution_count": 19,
   "id": "31ce3acc-b4fc-4203-97fc-fadd9303a7db",
   "metadata": {
    "pycharm": {
     "name": "#%%\n"
    }
   },
   "outputs": [],
   "source": []
  },
  {
   "cell_type": "code",
   "execution_count": 19,
   "id": "7b229fbd-c96a-45c6-b0c4-ce97ee1ba9fc",
   "metadata": {
    "pycharm": {
     "name": "#%%\n"
    }
   },
   "outputs": [],
   "source": []
  },
  {
   "cell_type": "code",
   "execution_count": 19,
   "id": "cbc7ab3d-fa3c-4b0e-9600-fa049840d692",
   "metadata": {
    "pycharm": {
     "name": "#%%\n"
    }
   },
   "outputs": [],
   "source": []
  },
  {
   "cell_type": "code",
   "execution_count": 19,
   "id": "69faa131-a3bb-4c8c-af71-ea5d7badc3d1",
   "metadata": {
    "pycharm": {
     "name": "#%%\n"
    }
   },
   "outputs": [],
   "source": []
  },
  {
   "cell_type": "code",
   "execution_count": 19,
   "id": "e8fd537b-b902-4549-ba5f-50181a29c328",
   "metadata": {
    "pycharm": {
     "name": "#%%\n"
    }
   },
   "outputs": [],
   "source": []
  },
  {
   "cell_type": "code",
   "execution_count": 19,
   "id": "d74b6390-708f-4672-ab86-b255b17d3042",
   "metadata": {
    "pycharm": {
     "name": "#%%\n"
    }
   },
   "outputs": [],
   "source": []
  },
  {
   "cell_type": "code",
   "execution_count": 19,
   "id": "f25bc1fc-55c3-42be-b062-f50860e62e14",
   "metadata": {
    "pycharm": {
     "name": "#%%\n"
    }
   },
   "outputs": [],
   "source": []
  },
  {
   "cell_type": "code",
   "execution_count": 19,
   "id": "31a5e4aa-5643-4a5b-aaa8-a88e6cb502fa",
   "metadata": {
    "pycharm": {
     "name": "#%%\n"
    }
   },
   "outputs": [],
   "source": []
  },
  {
   "cell_type": "code",
   "execution_count": 19,
   "id": "4b2b78e4-af77-4c03-b975-bac98b5415d1",
   "metadata": {
    "pycharm": {
     "name": "#%%\n"
    }
   },
   "outputs": [],
   "source": []
  },
  {
   "cell_type": "code",
   "execution_count": 19,
   "id": "7d4c0b74-127c-428e-9dfa-d59e0d23ff8c",
   "metadata": {
    "pycharm": {
     "name": "#%%\n"
    }
   },
   "outputs": [],
   "source": []
  },
  {
   "cell_type": "code",
   "execution_count": 19,
   "id": "7bb3880b-4ed2-4346-9e5d-7a82d4d5f305",
   "metadata": {
    "pycharm": {
     "name": "#%%\n"
    }
   },
   "outputs": [],
   "source": []
  },
  {
   "cell_type": "code",
   "execution_count": 19,
   "id": "3eaf0627-45d6-441a-a58a-f88c5794adf1",
   "metadata": {
    "pycharm": {
     "name": "#%%\n"
    }
   },
   "outputs": [],
   "source": []
  },
  {
   "cell_type": "code",
   "execution_count": 19,
   "id": "51d4fb5d-42ae-44a1-bab3-ecbaadc39ed1",
   "metadata": {
    "pycharm": {
     "name": "#%%\n"
    }
   },
   "outputs": [],
   "source": []
  },
  {
   "cell_type": "code",
   "execution_count": 19,
   "id": "f606c9b0-60fa-4624-96e2-27e7f8e57606",
   "metadata": {
    "pycharm": {
     "name": "#%%\n"
    }
   },
   "outputs": [],
   "source": []
  },
  {
   "cell_type": "code",
   "execution_count": 19,
   "id": "779a5d07-ed4c-4164-84c9-3e53bf744e98",
   "metadata": {
    "pycharm": {
     "name": "#%%\n"
    }
   },
   "outputs": [],
   "source": []
  },
  {
   "cell_type": "code",
   "execution_count": 19,
   "id": "b5f8e3cd-4d33-4eb9-b13c-cccbd25deabb",
   "metadata": {
    "pycharm": {
     "name": "#%%\n"
    }
   },
   "outputs": [],
   "source": []
  },
  {
   "cell_type": "code",
   "execution_count": 19,
   "id": "b9a07312-87f8-4b7a-b7f0-cbd07dd1be5c",
   "metadata": {
    "pycharm": {
     "name": "#%%\n"
    }
   },
   "outputs": [],
   "source": []
  },
  {
   "cell_type": "code",
   "execution_count": 19,
   "id": "3e21290b-a8f7-4b66-bf42-569c23adfff0",
   "metadata": {
    "pycharm": {
     "name": "#%%\n"
    }
   },
   "outputs": [],
   "source": []
  },
  {
   "cell_type": "code",
   "execution_count": 19,
   "id": "86f03650-cc07-4c84-a909-7daba7f2fe52",
   "metadata": {
    "pycharm": {
     "name": "#%%\n"
    }
   },
   "outputs": [],
   "source": []
  },
  {
   "cell_type": "code",
   "execution_count": 19,
   "id": "a344d55d-fe4b-4d9e-9db9-fa6b6e8a302d",
   "metadata": {
    "pycharm": {
     "name": "#%%\n"
    }
   },
   "outputs": [],
   "source": []
  },
  {
   "cell_type": "code",
   "execution_count": 19,
   "id": "29a3c51a-b2dd-4c9d-bf0a-ec7ed20a6391",
   "metadata": {
    "pycharm": {
     "name": "#%%\n"
    }
   },
   "outputs": [],
   "source": []
  },
  {
   "cell_type": "code",
   "execution_count": 19,
   "id": "2e65c1f0-c5f6-446e-bb6a-5d42b797bb9b",
   "metadata": {
    "pycharm": {
     "name": "#%%\n"
    }
   },
   "outputs": [],
   "source": []
  },
  {
   "cell_type": "code",
   "execution_count": 19,
   "id": "2a4172ee-3bd0-4f3f-9e06-1bd02beff497",
   "metadata": {
    "pycharm": {
     "name": "#%%\n"
    }
   },
   "outputs": [],
   "source": []
  },
  {
   "cell_type": "code",
   "execution_count": 19,
   "id": "2813bfa2-2dae-4730-8f83-b5f1420447c1",
   "metadata": {
    "pycharm": {
     "name": "#%%\n"
    }
   },
   "outputs": [],
   "source": []
  },
  {
   "cell_type": "code",
   "execution_count": 19,
   "id": "fd3f5fef-12c6-43bb-93c6-fa33df3746dd",
   "metadata": {
    "pycharm": {
     "name": "#%%\n"
    }
   },
   "outputs": [],
   "source": []
  },
  {
   "cell_type": "code",
   "execution_count": 19,
   "id": "6cab5d16-7099-495d-bc8d-a577090d8344",
   "metadata": {
    "pycharm": {
     "name": "#%%\n"
    }
   },
   "outputs": [],
   "source": []
  },
  {
   "cell_type": "code",
   "execution_count": 19,
   "id": "c7fe3caa-7763-454b-86bb-2fe944e96d01",
   "metadata": {
    "pycharm": {
     "name": "#%%\n"
    }
   },
   "outputs": [],
   "source": []
  },
  {
   "cell_type": "code",
   "execution_count": 19,
   "id": "c0288dc6-d4c3-4cef-ba86-843d2b6f8af0",
   "metadata": {
    "pycharm": {
     "name": "#%%\n"
    }
   },
   "outputs": [],
   "source": []
  },
  {
   "cell_type": "code",
   "execution_count": 19,
   "id": "1486157f-c053-46f3-8f78-8ef3897d9706",
   "metadata": {
    "pycharm": {
     "name": "#%%\n"
    }
   },
   "outputs": [],
   "source": []
  },
  {
   "cell_type": "code",
   "execution_count": 19,
   "id": "d8550468-00f8-4719-9c37-08477e867655",
   "metadata": {
    "pycharm": {
     "name": "#%%\n"
    }
   },
   "outputs": [],
   "source": []
  }
 ],
 "metadata": {
  "kernelspec": {
   "display_name": "Python 3 (ipykernel)",
   "language": "python",
   "name": "python3"
  },
  "language_info": {
   "codemirror_mode": {
    "name": "ipython",
    "version": 3
   },
   "file_extension": ".py",
   "mimetype": "text/x-python",
   "name": "python",
   "nbconvert_exporter": "python",
   "pygments_lexer": "ipython3",
   "version": "3.9.5"
  }
 },
 "nbformat": 4,
 "nbformat_minor": 5
}