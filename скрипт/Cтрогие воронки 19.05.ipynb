{
 "cells": [
  {
   "cell_type": "code",
   "execution_count": null,
   "id": "a4167d3a-84f4-42b8-9315-2fcb72b2f769",
   "metadata": {
    "pycharm": {
     "name": "#%%\n"
    }
   },
   "outputs": [],
   "source": []
  },
  {
   "cell_type": "code",
   "execution_count": null,
   "outputs": [],
   "source": [
    "import psycopg2\n",
    "import pandas as pd\n",
    "\n",
    "conn = psycopg2.connect(user='gpadmin',\n",
    "                        password='gpadmin',\n",
    "                        host='srv8-hausma.net.billing.ru',\n",
    "                        port=\"5432\",\n",
    "                        database='ndr_spa_db_paas')\n",
    "df = pd.DataFrame()\n",
    "\n",
    "with conn.cursor() as cur:\n",
    "\n",
    "# Просмотрело пользователей\n",
    "    cur.execute(\"\"\"\n",
    " SELECT COALESCE (t_spa_merging.merged_spa_id,t_dashboard_data_spa.spa_id) AS \"User\",\n",
    "       t_dashboard_data_spa.\"timestamp\" AS \"Date\",\n",
    "       t_dashboard_data_spa.custom_event_id AS \"Action\"\n",
    "        ,t_channel.channelname as t_channel_channelname,\n",
    "       t_ua_browser.family as t_ua_browser_family,\n",
    "       t_ua_os.family as t_ua_os_family\n",
    "FROM metrics.dashboard_data_spa as t_dashboard_data_spa\n",
    "         INNER JOIN metrics.ua_os as t_ua_os ON t_dashboard_data_spa.os_id = t_ua_os.id\n",
    "         INNER JOIN metrics.ua_browser as t_ua_browser ON t_dashboard_data_spa.browser_id = t_ua_browser.id\n",
    "         INNER JOIN metrics.channel as t_channel ON t_dashboard_data_spa.channel_name_typeid = t_channel.channel_name_typeid\n",
    "         LEFT JOIN metrics.spa_merging t_spa_merging ON t_dashboard_data_spa.spa_id = t_spa_merging.spa_id\n",
    "WHERE\n",
    "        t_dashboard_data_spa.date_timestamp >= 1650326400.0\n",
    "  AND t_dashboard_data_spa.date_timestamp <= 1653004799.999\n",
    "  AND t_dashboard_data_spa.counterid = 28\n",
    "ORDER BY 1, 2, 3\n",
    "\"\"\")\n",
    "\n",
    "\n",
    "    data = cur.fetchall()\n",
    "    columns = list(cur.description)\n",
    "    datacolumns=[c[0] for c in columns]\n",
    "    df = pd.DataFrame(data=data, columns = datacolumns)\n",
    "    \n",
    "#df.head(100)  \n",
    "df"
   ],
   "metadata": {
    "collapsed": false,
    "pycharm": {
     "name": "#%%\n"
    }
   }
  },
  {
   "cell_type": "code",
   "execution_count": null,
   "outputs": [],
   "source": [],
   "metadata": {
    "collapsed": false,
    "pycharm": {
     "name": "#%%\n"
    }
   }
  },
  {
   "cell_type": "code",
   "execution_count": null,
   "outputs": [],
   "source": [],
   "metadata": {
    "collapsed": false,
    "pycharm": {
     "name": "#%%\n"
    }
   }
  },
  {
   "cell_type": "code",
   "execution_count": null,
   "outputs": [],
   "source": [
    "# 1 ШАГ - ВЫГРУЗКА ДАННЫХ\n",
    "\n",
    "#выгружаем дата сет из csv\n",
    "# import pandas as pd\n",
    "# df = pd.read_csv('C:/Users/Maria.Ruchkina/Desktop/Исходные данные2.csv', encoding='windows-1251', sep=';')\n",
    "\n",
    "# df['Date'] = pd.to_datetime(df['Date'])\n",
    "# df['Action'] = df['Action'].astype(str)\n",
    "\n",
    "#сортируем данные сначала по пользователю, зачем, для каждого пользователя - по дате\n",
    "df=df.sort_values(by=['User', 'Date', 'Action'])\n",
    "\n",
    "df.reset_index(inplace = True, drop = True)\n",
    "\n",
    "#добавляем столбцы - Случай\n",
    "df[\"Case\"] = ''\n",
    "#добавляем столбцы - Шаг\n",
    "df[\"Step\"] = ''\n",
    "#добавляем столбец - Первый раз\n",
    "df[\"FirstTime\"] = ''\n",
    "\n",
    "df.to_csv(\"исходные данные.csv\", sep=';', encoding='windows-1251')\n",
    "df"
   ],
   "metadata": {
    "collapsed": false,
    "pycharm": {
     "name": "#%%\n"
    }
   }
  },
  {
   "cell_type": "code",
   "execution_count": null,
   "outputs": [],
   "source": [],
   "metadata": {
    "collapsed": false,
    "pycharm": {
     "name": "#%%\n"
    }
   }
  },
  {
   "cell_type": "code",
   "execution_count": null,
   "outputs": [],
   "source": [],
   "metadata": {
    "collapsed": false,
    "pycharm": {
     "name": "#%%\n"
    }
   }
  },
  {
   "cell_type": "code",
   "execution_count": null,
   "outputs": [],
   "source": [
    "#создаем список шагов\n",
    "\n",
    "steps =[-5430214541187537878, -5514793887192677486]\n"
   ],
   "metadata": {
    "collapsed": false,
    "pycharm": {
     "name": "#%%\n"
    }
   }
  },
  {
   "cell_type": "code",
   "execution_count": null,
   "id": "2740b162-92b0-4b09-871a-d901151ab4af",
   "metadata": {
    "pycharm": {
     "name": "#%%\n"
    }
   },
   "outputs": [],
   "source": []
  },
  {
   "cell_type": "code",
   "execution_count": null,
   "id": "44a434e1-5f66-4473-8572-8caf149ad41c",
   "metadata": {
    "pycharm": {
     "name": "#%%\n"
    }
   },
   "outputs": [],
   "source": []
  },
  {
   "cell_type": "code",
   "execution_count": 10,
   "id": "188cf344-43ed-46c3-8d90-0f7477565001",
   "metadata": {
    "pycharm": {
     "name": "#%%\n"
    }
   },
   "outputs": [
    {
     "name": "stdout",
     "output_type": "stream",
     "text": [
      "0\n",
      "1\n"
     ]
    },
    {
     "data": {
      "text/html": [
       "<div>\n",
       "<style scoped>\n",
       "    .dataframe tbody tr th:only-of-type {\n",
       "        vertical-align: middle;\n",
       "    }\n",
       "\n",
       "    .dataframe tbody tr th {\n",
       "        vertical-align: top;\n",
       "    }\n",
       "\n",
       "    .dataframe thead th {\n",
       "        text-align: right;\n",
       "    }\n",
       "</style>\n",
       "<table border=\"1\" class=\"dataframe\">\n",
       "  <thead>\n",
       "    <tr style=\"text-align: right;\">\n",
       "      <th></th>\n",
       "      <th>User</th>\n",
       "      <th>Date</th>\n",
       "      <th>Action</th>\n",
       "      <th>t_channel_channelname</th>\n",
       "      <th>t_ua_browser_family</th>\n",
       "      <th>t_ua_os_family</th>\n",
       "      <th>Case</th>\n",
       "      <th>Step</th>\n",
       "      <th>FirstTime</th>\n",
       "    </tr>\n",
       "  </thead>\n",
       "  <tbody>\n",
       "    <tr>\n",
       "      <th>0</th>\n",
       "      <td>80001</td>\n",
       "      <td>1652338224</td>\n",
       "      <td>-7120242342588305733</td>\n",
       "      <td>SPA WebSDK ver. 1.0</td>\n",
       "      <td>Chrome</td>\n",
       "      <td>Windows</td>\n",
       "      <td></td>\n",
       "      <td></td>\n",
       "      <td></td>\n",
       "    </tr>\n",
       "    <tr>\n",
       "      <th>1</th>\n",
       "      <td>80001</td>\n",
       "      <td>1652338242</td>\n",
       "      <td>5643009978292827356</td>\n",
       "      <td>SPA WebSDK ver. 1.0</td>\n",
       "      <td>Chrome</td>\n",
       "      <td>Windows</td>\n",
       "      <td></td>\n",
       "      <td></td>\n",
       "      <td></td>\n",
       "    </tr>\n",
       "    <tr>\n",
       "      <th>2</th>\n",
       "      <td>80001</td>\n",
       "      <td>1652338243</td>\n",
       "      <td>6214921114045282468</td>\n",
       "      <td>SPA WebSDK ver. 1.0</td>\n",
       "      <td>Chrome</td>\n",
       "      <td>Windows</td>\n",
       "      <td></td>\n",
       "      <td></td>\n",
       "      <td></td>\n",
       "    </tr>\n",
       "    <tr>\n",
       "      <th>3</th>\n",
       "      <td>80001</td>\n",
       "      <td>1652338269</td>\n",
       "      <td>2952184785219546748</td>\n",
       "      <td>SPA WebSDK ver. 1.0</td>\n",
       "      <td>Chrome</td>\n",
       "      <td>Windows</td>\n",
       "      <td></td>\n",
       "      <td></td>\n",
       "      <td></td>\n",
       "    </tr>\n",
       "    <tr>\n",
       "      <th>4</th>\n",
       "      <td>80001</td>\n",
       "      <td>1652338273</td>\n",
       "      <td>6214921114045282468</td>\n",
       "      <td>SPA WebSDK ver. 1.0</td>\n",
       "      <td>Chrome</td>\n",
       "      <td>Windows</td>\n",
       "      <td></td>\n",
       "      <td></td>\n",
       "      <td></td>\n",
       "    </tr>\n",
       "    <tr>\n",
       "      <th>...</th>\n",
       "      <td>...</td>\n",
       "      <td>...</td>\n",
       "      <td>...</td>\n",
       "      <td>...</td>\n",
       "      <td>...</td>\n",
       "      <td>...</td>\n",
       "      <td>...</td>\n",
       "      <td>...</td>\n",
       "      <td>...</td>\n",
       "    </tr>\n",
       "    <tr>\n",
       "      <th>187</th>\n",
       "      <td>210011</td>\n",
       "      <td>1652870885</td>\n",
       "      <td>2828163426469846670</td>\n",
       "      <td>SPA WebSDK ver. 1.0</td>\n",
       "      <td>Chrome</td>\n",
       "      <td>Windows</td>\n",
       "      <td></td>\n",
       "      <td></td>\n",
       "      <td></td>\n",
       "    </tr>\n",
       "    <tr>\n",
       "      <th>188</th>\n",
       "      <td>210011</td>\n",
       "      <td>1652870887</td>\n",
       "      <td>7056222391076071694</td>\n",
       "      <td>SPA WebSDK ver. 1.0</td>\n",
       "      <td>Chrome</td>\n",
       "      <td>Windows</td>\n",
       "      <td></td>\n",
       "      <td></td>\n",
       "      <td></td>\n",
       "    </tr>\n",
       "    <tr>\n",
       "      <th>189</th>\n",
       "      <td>210011</td>\n",
       "      <td>1652870890</td>\n",
       "      <td>3020348873013704224</td>\n",
       "      <td>SPA WebSDK ver. 1.0</td>\n",
       "      <td>Chrome</td>\n",
       "      <td>Windows</td>\n",
       "      <td></td>\n",
       "      <td></td>\n",
       "      <td></td>\n",
       "    </tr>\n",
       "    <tr>\n",
       "      <th>190</th>\n",
       "      <td>210011</td>\n",
       "      <td>1652870894</td>\n",
       "      <td>3020348873013704224</td>\n",
       "      <td>SPA WebSDK ver. 1.0</td>\n",
       "      <td>Chrome</td>\n",
       "      <td>Windows</td>\n",
       "      <td></td>\n",
       "      <td></td>\n",
       "      <td></td>\n",
       "    </tr>\n",
       "    <tr>\n",
       "      <th>191</th>\n",
       "      <td>210011</td>\n",
       "      <td>1652870897</td>\n",
       "      <td>-1240821947254618670</td>\n",
       "      <td>SPA WebSDK ver. 1.0</td>\n",
       "      <td>Chrome</td>\n",
       "      <td>Windows</td>\n",
       "      <td></td>\n",
       "      <td></td>\n",
       "      <td></td>\n",
       "    </tr>\n",
       "  </tbody>\n",
       "</table>\n",
       "<p>192 rows × 9 columns</p>\n",
       "</div>"
      ],
      "text/plain": [
       "       User        Date               Action t_channel_channelname  \\\n",
       "0     80001  1652338224 -7120242342588305733   SPA WebSDK ver. 1.0   \n",
       "1     80001  1652338242  5643009978292827356   SPA WebSDK ver. 1.0   \n",
       "2     80001  1652338243  6214921114045282468   SPA WebSDK ver. 1.0   \n",
       "3     80001  1652338269  2952184785219546748   SPA WebSDK ver. 1.0   \n",
       "4     80001  1652338273  6214921114045282468   SPA WebSDK ver. 1.0   \n",
       "..      ...         ...                  ...                   ...   \n",
       "187  210011  1652870885  2828163426469846670   SPA WebSDK ver. 1.0   \n",
       "188  210011  1652870887  7056222391076071694   SPA WebSDK ver. 1.0   \n",
       "189  210011  1652870890  3020348873013704224   SPA WebSDK ver. 1.0   \n",
       "190  210011  1652870894  3020348873013704224   SPA WebSDK ver. 1.0   \n",
       "191  210011  1652870897 -1240821947254618670   SPA WebSDK ver. 1.0   \n",
       "\n",
       "    t_ua_browser_family t_ua_os_family Case Step FirstTime  \n",
       "0                Chrome        Windows                      \n",
       "1                Chrome        Windows                      \n",
       "2                Chrome        Windows                      \n",
       "3                Chrome        Windows                      \n",
       "4                Chrome        Windows                      \n",
       "..                  ...            ...  ...  ...       ...  \n",
       "187              Chrome        Windows                      \n",
       "188              Chrome        Windows                      \n",
       "189              Chrome        Windows                      \n",
       "190              Chrome        Windows                      \n",
       "191              Chrome        Windows                      \n",
       "\n",
       "[192 rows x 9 columns]"
      ]
     },
     "execution_count": 10,
     "metadata": {},
     "output_type": "execute_result"
    }
   ],
   "source": [
    "# 2 ШАГ - ДЛЯ СТРОГОГО ПОРЯДКА - РАЗМЕЧАЕМ СОБЫТИЯ В ДАТА СЕТЕ\n",
    "\n",
    "# caseNumber - счетчик для случаев\n",
    "caseNumber = 1\n",
    "\n",
    "# счетчик для шагов\n",
    "stepNumber = 0\n",
    "\n",
    "# цикл по шагам воронки\n",
    "for step in steps:\n",
    "    print (stepNumber)    \n",
    "    # цикл по списку событий\n",
    "    for i, row in df.iterrows():\n",
    "        \n",
    "        # работаем с записью только если для нее не определен шаг\n",
    "        if row['Step'] == '':\n",
    "            \n",
    "            # если у записи событие = текущему шагу воронки\n",
    "            if row['Action'] == step:\n",
    "                \n",
    "                # Пропускаем текущее событие, если:\n",
    "                # Это не первая запись ИЛИ у предыдущей записи тот же юзер, событие и для него определен тот же шаг или шаг не определен\n",
    "                # Это необходимо, так как если записи о событии от одного и того же пользователя идут подряд, мы считаем это одним и тем же шагом, а также для для того, чтобы не пропустить шаг, если для 2 шагов указано одно и то же событие\n",
    "                \n",
    "                #if i==0 or (df.iloc[i-1]['User'] == row['User'] and df.iloc[i-1]['Action'] == step and (df.iloc[i-1]['Step'] == (stepNumber+1) or df.iloc[i-1]['Step'] == '')) == False:\n",
    "                    \n",
    "                    # если текущий шаг - первый, фиксируем случай и шаг\n",
    "                    if stepNumber == 0:\n",
    "                        # если предыдущий шаг - с таким же Action и User и номером шага и следующий шаг - с другим Action\n",
    "                        if df.iloc[i-1]['Action']==step and df.iloc[i-1]['User'] == row['User'] and df.iloc[i-1]['Step'] == stepNumber+1 and step != steps[stepNumber+1]:\n",
    "                                df.at[i, 'Step'] = stepNumber+1\n",
    "                                df.at[i, 'Case'] = df.iloc[i-1]['Case']\n",
    "                                df.at[i, 'FirstTime']=False\n",
    "                        elif i == 0 or df.iloc[i-1]['User'] != row['User'] or df.iloc[i-1]['Action'] != step:\n",
    "                            df.at[i, 'Step'] = stepNumber+1\n",
    "                            df.at[i, 'Case'] = caseNumber\n",
    "                            df.at[i, 'FirstTime']=True\n",
    "                            caseNumber = caseNumber + 1\n",
    "                    # если текущий шаг - не первый\n",
    "                    else:\n",
    "                        if df.iloc[i-1]['Action']==steps[stepNumber-1] and df.iloc[i-1]['User'] == row['User'] and df.iloc[i-1]['Step']==stepNumber:\n",
    "                            df.at[i, 'Case'] = df.iloc[i-1]['Case']\n",
    "                            df.at[i, 'Step'] = stepNumber+1\n",
    "                            df.at[i, 'FirstTime']=True\n",
    "                        elif df.iloc[i-1]['Action']==step and df.iloc[i-1]['User'] == row['User'] and df.iloc[i-1]['Step']==stepNumber+1 and ((stepNumber+1) == len(steps) or step != steps[stepNumber+1]):\n",
    "                            df.at[i, 'Step'] = stepNumber+1\n",
    "                            df.at[i, 'Case'] = df.iloc[i-1]['Case']\n",
    "                            df.at[i, 'FirstTime']=False\n",
    "                       \n",
    "    stepNumber = stepNumber + 1\n",
    "                        \n",
    "df_res=df[df.FirstTime == True]\n",
    "df.to_csv(\"размеченные данные.csv\", sep=';', encoding='windows-1251')\n",
    "df"
   ]
  },
  {
   "cell_type": "code",
   "execution_count": null,
   "id": "b7845da6-7fa4-47c8-b220-a8e33636b8ba",
   "metadata": {
    "pycharm": {
     "name": "#%%\n"
    }
   },
   "outputs": [],
   "source": []
  },
  {
   "cell_type": "code",
   "execution_count": null,
   "id": "bca38fc6-e517-4c13-ba73-dd752971ac70",
   "metadata": {
    "pycharm": {
     "name": "#%%\n"
    }
   },
   "outputs": [],
   "source": []
  },
  {
   "cell_type": "code",
   "execution_count": 11,
   "id": "827eb2df-6fd0-4266-bd8e-072018560563",
   "metadata": {
    "pycharm": {
     "name": "#%%\n"
    }
   },
   "outputs": [
    {
     "data": {
      "text/html": [
       "<div>\n",
       "<style scoped>\n",
       "    .dataframe tbody tr th:only-of-type {\n",
       "        vertical-align: middle;\n",
       "    }\n",
       "\n",
       "    .dataframe tbody tr th {\n",
       "        vertical-align: top;\n",
       "    }\n",
       "\n",
       "    .dataframe thead th {\n",
       "        text-align: right;\n",
       "    }\n",
       "</style>\n",
       "<table border=\"1\" class=\"dataframe\">\n",
       "  <thead>\n",
       "    <tr style=\"text-align: right;\">\n",
       "      <th></th>\n",
       "      <th>Case</th>\n",
       "      <th>User</th>\n",
       "      <th>Step1</th>\n",
       "      <th>Diff_Step2</th>\n",
       "      <th>Step2</th>\n",
       "    </tr>\n",
       "  </thead>\n",
       "  <tbody>\n",
       "    <tr>\n",
       "      <th>0</th>\n",
       "      <td>1</td>\n",
       "      <td>80001</td>\n",
       "      <td>1652338315</td>\n",
       "      <td></td>\n",
       "      <td></td>\n",
       "    </tr>\n",
       "    <tr>\n",
       "      <th>1</th>\n",
       "      <td>2</td>\n",
       "      <td>80001</td>\n",
       "      <td>1652338429</td>\n",
       "      <td></td>\n",
       "      <td></td>\n",
       "    </tr>\n",
       "    <tr>\n",
       "      <th>2</th>\n",
       "      <td>3</td>\n",
       "      <td>80001</td>\n",
       "      <td>1652338511</td>\n",
       "      <td></td>\n",
       "      <td></td>\n",
       "    </tr>\n",
       "    <tr>\n",
       "      <th>3</th>\n",
       "      <td>4</td>\n",
       "      <td>80006</td>\n",
       "      <td>1652338391</td>\n",
       "      <td></td>\n",
       "      <td></td>\n",
       "    </tr>\n",
       "    <tr>\n",
       "      <th>4</th>\n",
       "      <td>5</td>\n",
       "      <td>80006</td>\n",
       "      <td>1652338509</td>\n",
       "      <td></td>\n",
       "      <td></td>\n",
       "    </tr>\n",
       "    <tr>\n",
       "      <th>5</th>\n",
       "      <td>6</td>\n",
       "      <td>80011</td>\n",
       "      <td>1652338609</td>\n",
       "      <td></td>\n",
       "      <td></td>\n",
       "    </tr>\n",
       "    <tr>\n",
       "      <th>6</th>\n",
       "      <td>7</td>\n",
       "      <td>80011</td>\n",
       "      <td>1652338640</td>\n",
       "      <td></td>\n",
       "      <td></td>\n",
       "    </tr>\n",
       "    <tr>\n",
       "      <th>7</th>\n",
       "      <td>8</td>\n",
       "      <td>80011</td>\n",
       "      <td>1652338676</td>\n",
       "      <td></td>\n",
       "      <td></td>\n",
       "    </tr>\n",
       "    <tr>\n",
       "      <th>8</th>\n",
       "      <td>9</td>\n",
       "      <td>90001</td>\n",
       "      <td>1652433482</td>\n",
       "      <td></td>\n",
       "      <td></td>\n",
       "    </tr>\n",
       "    <tr>\n",
       "      <th>9</th>\n",
       "      <td>10</td>\n",
       "      <td>90001</td>\n",
       "      <td>1652433498</td>\n",
       "      <td>3</td>\n",
       "      <td>1652433501</td>\n",
       "    </tr>\n",
       "    <tr>\n",
       "      <th>10</th>\n",
       "      <td>11</td>\n",
       "      <td>90001</td>\n",
       "      <td>1652433533</td>\n",
       "      <td></td>\n",
       "      <td></td>\n",
       "    </tr>\n",
       "    <tr>\n",
       "      <th>11</th>\n",
       "      <td>12</td>\n",
       "      <td>210011</td>\n",
       "      <td>1652870869</td>\n",
       "      <td></td>\n",
       "      <td></td>\n",
       "    </tr>\n",
       "  </tbody>\n",
       "</table>\n",
       "</div>"
      ],
      "text/plain": [
       "   Case    User       Step1 Diff_Step2       Step2\n",
       "0     1   80001  1652338315                       \n",
       "1     2   80001  1652338429                       \n",
       "2     3   80001  1652338511                       \n",
       "3     4   80006  1652338391                       \n",
       "4     5   80006  1652338509                       \n",
       "5     6   80011  1652338609                       \n",
       "6     7   80011  1652338640                       \n",
       "7     8   80011  1652338676                       \n",
       "8     9   90001  1652433482                       \n",
       "9    10   90001  1652433498          3  1652433501\n",
       "10   11   90001  1652433533                       \n",
       "11   12  210011  1652870869                       "
      ]
     },
     "execution_count": 11,
     "metadata": {},
     "output_type": "execute_result"
    }
   ],
   "source": [
    "# ФОРМИРУЕМ СЛУЧАИ\n",
    "\n",
    "cases_list = pd.DataFrame({'Case': df_res.Case.unique()})\n",
    "cases_list[\"User\"]=''\n",
    "\n",
    "step_number = 0\n",
    "\n",
    "for step in steps:\n",
    "    step_number = step_number + 1\n",
    "    if step_number != 1:\n",
    "        cases_list[\"Diff_Step\"+str(step_number)] = ''\n",
    "    cases_list[\"Step\"+str(step_number)] = ''\n",
    "    \n",
    "for i, case in cases_list.iterrows():\n",
    "    step_number = 0\n",
    "    for step in steps:\n",
    "        step_number = step_number + 1\n",
    "        step_row = df_res[(df_res['Case'] == case['Case']) & (df_res['Step'] == step_number)]\n",
    "        if step_row.empty == False:\n",
    "            cases_list.at[i, \"Step\" + str(step_number)]=step_row.iloc[0].Date\n",
    "            cases_list.at[i, 'User']=step_row.iloc[0].User\n",
    "            if step_number != 1:\n",
    "                cases_list.at[i, \"Diff_Step\" + str(step_number)] = (cases_list.at[i, \"Step\" + str(step_number)] - cases_list.at[i, \"Step\" + str(step_number-1)])\n",
    "                \n",
    "cases_list"
   ]
  },
  {
   "cell_type": "code",
   "execution_count": null,
   "id": "87aa4180-1437-4cca-8b28-3cf3cbad0b0a",
   "metadata": {
    "pycharm": {
     "name": "#%%\n"
    }
   },
   "outputs": [],
   "source": []
  },
  {
   "cell_type": "code",
   "execution_count": null,
   "id": "1633b9c8-6ca8-4916-86e9-b61274756e0c",
   "metadata": {
    "pycharm": {
     "name": "#%%\n"
    }
   },
   "outputs": [],
   "source": []
  },
  {
   "cell_type": "code",
   "execution_count": 12,
   "id": "54012114-15ab-4c5a-b474-03ce62c25d5c",
   "metadata": {
    "pycharm": {
     "name": "#%%\n"
    }
   },
   "outputs": [
    {
     "name": "stdout",
     "output_type": "stream",
     "text": [
      "Шаг 1:\n",
      "Количество случаев =12\n",
      "Количество пользователей = 5\n",
      "Шаг 2:\n",
      "Количество случаев =1\n",
      "Количество пользователей = 1\n",
      "Среднее время после предыдущего шага = 3.0\n",
      "Среднее время после предыдущего шага (медиана) = 3.0\n"
     ]
    }
   ],
   "source": [
    "# ОТОБРАЖАЕМ МЕТРИКИ\n",
    "\n",
    "step_number = 0\n",
    "\n",
    "for step in steps:\n",
    "    step_number = step_number + 1    \n",
    "    print(\"Шаг \"+ str(step_number)+\":\")\n",
    "    step_df=cases_list[cases_list[\"Step\"+str(step_number)] != '']\n",
    "    print(\"Количество случаев =\"+ str(step_df.shape[0]))\n",
    "    print(\"Количество пользователей = \" + str(step_df.User.unique().shape[0]))\n",
    "    if step_number != 1:\n",
    "        print(\"Среднее время после предыдущего шага = \" + str(step_df[\"Diff_Step\" + str(step_number)].mean()))\n",
    "        print(\"Среднее время после предыдущего шага (медиана) = \" + str(step_df[\"Diff_Step\" + str(step_number)].median()))"
   ]
  },
  {
   "cell_type": "code",
   "execution_count": null,
   "id": "a53b1d63-84d5-49a9-8abf-864f36ebb193",
   "metadata": {
    "pycharm": {
     "name": "#%%\n"
    }
   },
   "outputs": [],
   "source": []
  },
  {
   "cell_type": "code",
   "execution_count": null,
   "id": "1462f3d9-49b8-49c0-a146-4cc4c32d9718",
   "metadata": {
    "pycharm": {
     "name": "#%%\n"
    }
   },
   "outputs": [],
   "source": []
  },
  {
   "cell_type": "code",
   "execution_count": null,
   "id": "638ae70c-8aa7-45b6-b734-bd9747b6e366",
   "metadata": {
    "pycharm": {
     "name": "#%%\n"
    }
   },
   "outputs": [],
   "source": []
  }
 ],
 "metadata": {
  "kernelspec": {
   "display_name": "Python 3 (ipykernel)",
   "language": "python",
   "name": "python3"
  },
  "language_info": {
   "codemirror_mode": {
    "name": "ipython",
    "version": 3
   },
   "file_extension": ".py",
   "mimetype": "text/x-python",
   "name": "python",
   "nbconvert_exporter": "python",
   "pygments_lexer": "ipython3",
   "version": "3.9.5"
  }
 },
 "nbformat": 4,
 "nbformat_minor": 5
}