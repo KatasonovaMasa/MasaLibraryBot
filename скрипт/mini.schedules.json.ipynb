{
 "cells": [
  {
   "cell_type": "code",
   "execution_count": null,
   "metadata": {
    "collapsed": true,
    "pycharm": {
     "name": "#%%\n",
     "is_executing": true
    }
   },
   "outputs": [],
   "source": [
    "python_process_once_a_month\n",
    "    application.scheduler_scripts.create_partitions\n",
    "\n",
    "sql_night_referrer_at_3am\n",
    "    full_process_referrer_dictionary.sql\n",
    "\n",
    "counter_preview_metrics_update\n",
    "    application.scheduler_scripts.counter_preview_metrics_update\n",
    "    application.scheduler_scripts.counter_ttm_metrics_update\n",
    "\n",
    "sql_referrer_dictionary_30m\n",
    "    process_referrer_dictionary.sql\n",
    "\n",
    "sql_events_dashboard_10m\n",
    "    process_events_dashboard.sql\n",
    "\n",
    "python_klad_integration_3h\n",
    "    application.scheduler_scripts.klad_integration\n",
    "\n",
    "python_metadata_updater_1h\n",
    "    application.scheduler_scripts.metadata_updater\n",
    "\n",
    "python_process_dashboard_events_30m\n",
    "    application.scheduler_scripts.process_sql_incrementally\n",
    "        process_dashboard_events\n",
    "\n",
    "python_process_events_urls_30m\n",
    "    application.scheduler_scripts.process_sql_incrementally\n",
    "        events_urls\n",
    "\n",
    "python_process_channels_30m\n",
    "    application.scheduler_scripts.process_sql_incrementally\n",
    "        channel\n",
    "\n",
    "python_process_process_events_url_stat_by_hour_30m\n",
    "    application.scheduler_scripts.process_sql_incrementally\n",
    "        events_url_stat_by_hour\n",
    "\n",
    "python_main_spa_group_30m\n",
    "    application.scheduler_scripts.user_spa_processing\n",
    "    application.scheduler_scripts.process_sql_incrementally\n",
    "        events_urls_user_spa_stat_by_hour\n",
    "    application.scheduler_scripts.process_sql_incrementally\n",
    "        users_spa_by_hour\n",
    "    application.scheduler_scripts.process_session_spa\n",
    "        process_session_spa\n",
    "    application.scheduler_scripts.process_sql_incrementally\n",
    "        dashboard_data_spa\n",
    "    application.scheduler_scripts.funnels.schedule\n",
    "    application.scheduler_scripts.process_session_pages_spa"
   ]
  },
  {
   "cell_type": "code",
   "execution_count": null,
   "outputs": [],
   "source": [],
   "metadata": {
    "collapsed": false,
    "pycharm": {
     "name": "#%%\n"
    }
   }
  }
 ],
 "metadata": {
  "kernelspec": {
   "display_name": "Python 3",
   "language": "python",
   "name": "python3"
  },
  "language_info": {
   "codemirror_mode": {
    "name": "ipython",
    "version": 2
   },
   "file_extension": ".py",
   "mimetype": "text/x-python",
   "name": "python",
   "nbconvert_exporter": "python",
   "pygments_lexer": "ipython2",
   "version": "2.7.6"
  }
 },
 "nbformat": 4,
 "nbformat_minor": 0
}